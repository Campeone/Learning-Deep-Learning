{
  "nbformat": 4,
  "nbformat_minor": 0,
  "metadata": {
    "colab": {
      "provenance": []
    },
    "kernelspec": {
      "name": "python3",
      "display_name": "Python 3"
    },
    "language_info": {
      "name": "python"
    },
    "accelerator": "GPU",
    "gpuClass": "standard"
  },
  "cells": [
    {
      "cell_type": "markdown",
      "source": [
        "**TRANSFER LEARNING**"
      ],
      "metadata": {
        "id": "NZv2UPRPnDUt"
      }
    },
    {
      "cell_type": "markdown",
      "source": [
        "**Transfer Learning** is taking the patterns (also called weights) another model has learned from another problem and using them for our own problem. \n",
        "\n",
        "**Two main benefits of using TL** \n",
        "> 1. Can leverage an existing neural network architecture proven to work on problems similar to our own. \n",
        "\n",
        "> 2.  instead of hand-crafting our own neural network architectures or building them from scratch, we can utilise models which have worked for others and **achieve great results with less data.**"
      ],
      "metadata": {
        "id": "BZ0eKYzehIag"
      }
    },
    {
      "cell_type": "markdown",
      "source": [
        "**Using a GPU**"
      ],
      "metadata": {
        "id": "Y65ZcaWLkHNc"
      }
    },
    {
      "cell_type": "code",
      "source": [
        "!nvidia-smi"
      ],
      "metadata": {
        "colab": {
          "base_uri": "https://localhost:8080/"
        },
        "id": "MqO0UISWnM4t",
        "outputId": "5f0c732a-6efb-438a-b2a3-4bcb42126656"
      },
      "execution_count": 1,
      "outputs": [
        {
          "output_type": "stream",
          "name": "stdout",
          "text": [
            "Mon Jan 16 23:16:50 2023       \n",
            "+-----------------------------------------------------------------------------+\n",
            "| NVIDIA-SMI 460.32.03    Driver Version: 460.32.03    CUDA Version: 11.2     |\n",
            "|-------------------------------+----------------------+----------------------+\n",
            "| GPU  Name        Persistence-M| Bus-Id        Disp.A | Volatile Uncorr. ECC |\n",
            "| Fan  Temp  Perf  Pwr:Usage/Cap|         Memory-Usage | GPU-Util  Compute M. |\n",
            "|                               |                      |               MIG M. |\n",
            "|===============================+======================+======================|\n",
            "|   0  Tesla T4            Off  | 00000000:00:04.0 Off |                    0 |\n",
            "| N/A   41C    P8     9W /  70W |      0MiB / 15109MiB |      0%      Default |\n",
            "|                               |                      |                  N/A |\n",
            "+-------------------------------+----------------------+----------------------+\n",
            "                                                                               \n",
            "+-----------------------------------------------------------------------------+\n",
            "| Processes:                                                                  |\n",
            "|  GPU   GI   CI        PID   Type   Process name                  GPU Memory |\n",
            "|        ID   ID                                                   Usage      |\n",
            "|=============================================================================|\n",
            "|  No running processes found                                                 |\n",
            "+-----------------------------------------------------------------------------+\n"
          ]
        }
      ]
    },
    {
      "cell_type": "markdown",
      "source": [
        "### **Transfer Learning with TensorFlow Hub: Getting great results with 10% of the data**"
      ],
      "metadata": {
        "id": "c-SL5ESEnRXB"
      }
    },
    {
      "cell_type": "markdown",
      "source": [
        "[TensorFlow Hub](https://tfhub.dev/) ia a repository for existing model components where I can import and use a fully trained model with as little as a URL"
      ],
      "metadata": {
        "id": "kJgblo-Ynn4l"
      }
    },
    {
      "cell_type": "markdown",
      "source": [
        "### **Download and get familiar with data**"
      ],
      "metadata": {
        "id": "6k4Y9rBxoRSF"
      }
    },
    {
      "cell_type": "code",
      "source": [
        "import zipfile \n",
        "\n",
        "# download data \n",
        "!wget https://storage.googleapis.com/ztm_tf_course/food_vision/10_food_classes_10_percent.zip \n"
      ],
      "metadata": {
        "colab": {
          "base_uri": "https://localhost:8080/"
        },
        "id": "RJ5S9w9JoxXN",
        "outputId": "43221349-e6f1-4592-abee-46aaa2262de7"
      },
      "execution_count": 2,
      "outputs": [
        {
          "output_type": "stream",
          "name": "stdout",
          "text": [
            "--2023-01-16 23:16:51--  https://storage.googleapis.com/ztm_tf_course/food_vision/10_food_classes_10_percent.zip\n",
            "Resolving storage.googleapis.com (storage.googleapis.com)... 74.125.20.128, 108.177.98.128, 74.125.197.128, ...\n",
            "Connecting to storage.googleapis.com (storage.googleapis.com)|74.125.20.128|:443... connected.\n",
            "HTTP request sent, awaiting response... 200 OK\n",
            "Length: 168546183 (161M) [application/zip]\n",
            "Saving to: ‘10_food_classes_10_percent.zip’\n",
            "\n",
            "10_food_classes_10_ 100%[===================>] 160.74M   202MB/s    in 0.8s    \n",
            "\n",
            "2023-01-16 23:16:52 (202 MB/s) - ‘10_food_classes_10_percent.zip’ saved [168546183/168546183]\n",
            "\n"
          ]
        }
      ]
    },
    {
      "cell_type": "code",
      "source": [
        "# unzip the downloaded data \n",
        "zip_ref = zipfile.ZipFile('10_food_classes_10_percent.zip', 'r')\n",
        "zip_ref.extractall()\n",
        "zip_ref.close()"
      ],
      "metadata": {
        "id": "4Ard7A3vpMDM"
      },
      "execution_count": 3,
      "outputs": []
    },
    {
      "cell_type": "code",
      "source": [
        "# how many images in each folder \n",
        "import os\n",
        "\n",
        "# walk through 10% data directory and list number of files \n",
        "for dirpath, dirnames, filenames in os.walk('10_food_classes_10_percent'): \n",
        "  print(f\"There are {len(dirnames)} directories and {len(filenames)} images in '{dirpath}'.\")"
      ],
      "metadata": {
        "colab": {
          "base_uri": "https://localhost:8080/"
        },
        "id": "psXOFFbBpi_B",
        "outputId": "4b0d1648-84a4-427f-da88-470f438c9936"
      },
      "execution_count": 4,
      "outputs": [
        {
          "output_type": "stream",
          "name": "stdout",
          "text": [
            "There are 2 directories and 0 images in '10_food_classes_10_percent'.\n",
            "There are 10 directories and 0 images in '10_food_classes_10_percent/test'.\n",
            "There are 0 directories and 250 images in '10_food_classes_10_percent/test/sushi'.\n",
            "There are 0 directories and 250 images in '10_food_classes_10_percent/test/ice_cream'.\n",
            "There are 0 directories and 250 images in '10_food_classes_10_percent/test/hamburger'.\n",
            "There are 0 directories and 250 images in '10_food_classes_10_percent/test/pizza'.\n",
            "There are 0 directories and 250 images in '10_food_classes_10_percent/test/chicken_wings'.\n",
            "There are 0 directories and 250 images in '10_food_classes_10_percent/test/grilled_salmon'.\n",
            "There are 0 directories and 250 images in '10_food_classes_10_percent/test/fried_rice'.\n",
            "There are 0 directories and 250 images in '10_food_classes_10_percent/test/ramen'.\n",
            "There are 0 directories and 250 images in '10_food_classes_10_percent/test/steak'.\n",
            "There are 0 directories and 250 images in '10_food_classes_10_percent/test/chicken_curry'.\n",
            "There are 10 directories and 0 images in '10_food_classes_10_percent/train'.\n",
            "There are 0 directories and 75 images in '10_food_classes_10_percent/train/sushi'.\n",
            "There are 0 directories and 75 images in '10_food_classes_10_percent/train/ice_cream'.\n",
            "There are 0 directories and 75 images in '10_food_classes_10_percent/train/hamburger'.\n",
            "There are 0 directories and 75 images in '10_food_classes_10_percent/train/pizza'.\n",
            "There are 0 directories and 75 images in '10_food_classes_10_percent/train/chicken_wings'.\n",
            "There are 0 directories and 75 images in '10_food_classes_10_percent/train/grilled_salmon'.\n",
            "There are 0 directories and 75 images in '10_food_classes_10_percent/train/fried_rice'.\n",
            "There are 0 directories and 75 images in '10_food_classes_10_percent/train/ramen'.\n",
            "There are 0 directories and 75 images in '10_food_classes_10_percent/train/steak'.\n",
            "There are 0 directories and 75 images in '10_food_classes_10_percent/train/chicken_curry'.\n"
          ]
        }
      ]
    },
    {
      "cell_type": "markdown",
      "source": [
        "**Creating Data Loaders(preparing the data)**"
      ],
      "metadata": {
        "id": "4qeu79Uiq_gb"
      }
    },
    {
      "cell_type": "code",
      "source": [
        "# set up data inputs \n",
        "from tensorflow.keras.preprocessing.image import ImageDataGenerator \n",
        "\n",
        "image_shape = (224, 224)\n",
        "batch_size = 32 \n",
        "\n",
        "train_dir = '10_food_classes_10_percent/train/' \n",
        "test_dir = '10_food_classes_10_percent/test/'"
      ],
      "metadata": {
        "id": "uM1YW-y2r2i9"
      },
      "execution_count": 5,
      "outputs": []
    },
    {
      "cell_type": "code",
      "source": [
        "#Rescale \n",
        "train_datagen = ImageDataGenerator(rescale = 1 / 255.0)\n",
        "test_datagen = ImageDataGenerator(rescale = 1 / 255.0)"
      ],
      "metadata": {
        "id": "cCC71FybscWG"
      },
      "execution_count": 6,
      "outputs": []
    },
    {
      "cell_type": "code",
      "source": [
        "print('Training images')\n",
        "train_data_10_percent = train_datagen.flow_from_directory(train_dir, \n",
        "                                                          target_size = image_shape, \n",
        "                                                          batch_size = batch_size, \n",
        "                                                          class_mode = 'categorical') \n",
        "\n",
        "print('Testing images')\n",
        "test_data_10_percent = train_datagen.flow_from_directory(test_dir, \n",
        "                                                          target_size = image_shape, \n",
        "                                                          batch_size = batch_size, \n",
        "                                                          class_mode = 'categorical')"
      ],
      "metadata": {
        "colab": {
          "base_uri": "https://localhost:8080/"
        },
        "id": "lKFy7VNzsy2z",
        "outputId": "a7bbfdf9-bb29-45af-c567-771ea802ca1d"
      },
      "execution_count": 7,
      "outputs": [
        {
          "output_type": "stream",
          "name": "stdout",
          "text": [
            "Training images\n",
            "Found 750 images belonging to 10 classes.\n",
            "Testing images\n",
            "Found 2500 images belonging to 10 classes.\n"
          ]
        }
      ]
    },
    {
      "cell_type": "markdown",
      "source": [
        "### **Setting up callbacks (things to run while our model trains)**"
      ],
      "metadata": {
        "id": "lgMIE6aDt1uQ"
      }
    },
    {
      "cell_type": "markdown",
      "source": [
        "[Callbacks]('https://www.tensorflow.org/api_docs/python/tf/keras/callbacks') are extra functionality you can add to your models to be performed during or after training. Some of the most popular callbacks include: \n",
        "\n",
        "- [Experiment tracking with TensorBoard]('https://www.tensorflow.org/api_docs/python/tf/keras/callbacks/TensorBoard') - log the performance of multiple models and then view and compare these models in a visual way on - [TensorBoard]('https://www.tensorflow.org/tensorboard') (a dashboard for inspecting neural network parameters). Helpful to compare the results of different models on your data. \n",
        "\n",
        "- [Model Checkpointing]('https://www.tensorflow.org/api_docs/python/tf/keras/callbacks/ModelCheckpoint') - save your model as it trains so you can stop training if needed and come back to continue off where you left. Helpful if training takes a long time and can't be done in one sitting \n",
        "\n",
        "- [Early stopping]('https://www.tensorflow.org/api_docs/python/tf/keras/callbacks/EarlyStopping') - leave your model training for an arbitrary amount of time and have it stop training automatically when it ceases to improve. Helpful when you've got a large dataset and don't know how long training will take."
      ],
      "metadata": {
        "id": "F-ZWd953uUwt"
      }
    },
    {
      "cell_type": "markdown",
      "source": [
        "### **Create a Function that creates a TensorBoard callback for us**"
      ],
      "metadata": {
        "id": "lURQn5uPzgni"
      }
    },
    {
      "cell_type": "code",
      "source": [
        "import datetime \n",
        "def create_tensorboard_callback(dir_name, experiment_name): \n",
        "  log_dir = dir_name + '/' + experiment_name + '/' + datetime.datetime.now().strftime(\"%Y%m%d-%H%M%S\")\n",
        "  tensorboard_callback = tf.keras.callbacks.TensorBoard(\n",
        "      log_dir = log_dir\n",
        "  ) \n",
        "  print(f'Saving TensorBoard log files to: {log_dir}')\n",
        "  return tensorboard_callback"
      ],
      "metadata": {
        "id": "JzN6T5b6i032"
      },
      "execution_count": 16,
      "outputs": []
    },
    {
      "cell_type": "markdown",
      "source": [
        "- **dir_name** is the overall logs directory\n",
        "- **experiment_name** is the particular experiment\n",
        "- **current_timestamp** is the time the experiment started based on Python's datetime.datetime().now()"
      ],
      "metadata": {
        "id": "fBxB-7Tvjlil"
      }
    },
    {
      "cell_type": "markdown",
      "source": [
        "### **Creating models using TensorFlow Hub** \n",
        "\n",
        "> 1. [ResNetV2]('https://arxiv.org/abs/1603.05027') - a state of the art computer vision model architecture from 2016. \n",
        "> 2. [EfficientNet]('https://arxiv.org/abs/1905.11946') - a state of art computer vision architecture from 2019."
      ],
      "metadata": {
        "id": "6EBBHQF1lY8n"
      }
    },
    {
      "cell_type": "code",
      "source": [
        "import tensorflow as tf \n",
        "import tensorflow_hub as hub \n",
        "from tensorflow.keras import layers"
      ],
      "metadata": {
        "id": "O3lsTJ_elvaO"
      },
      "execution_count": 9,
      "outputs": []
    },
    {
      "cell_type": "code",
      "source": [
        "# resnet 50 V2 feature vector \n",
        "resnet_url = 'https://tfhub.dev/google/imagenet/resnet_v2_50/feature_vector/5'\n",
        "\n",
        "# efficientNetB0 feature vector \n",
        "efficient_url = 'https://tfhub.dev/tensorflow/efficientnet/b0/feature-vector/1'"
      ],
      "metadata": {
        "id": "qbhBnL6vvvJF"
      },
      "execution_count": 10,
      "outputs": []
    },
    {
      "cell_type": "markdown",
      "source": [
        "### Since we're going to be comparing two models, to save ourselves code, we'll create a function **create_model()**"
      ],
      "metadata": {
        "id": "T7nN98YZxYeD"
      }
    },
    {
      "cell_type": "code",
      "source": [
        "def create_model(model_url, num_classes=10):\n",
        "  \"\"\"Takes a TensorFlow Hub URL and creates a Keras Sequential model with it.\n",
        "  \n",
        "  Args:\n",
        "    model_url (str): A TensorFlow Hub feature extraction URL.\n",
        "    num_classes (int): Number of output neurons in output layer,\n",
        "      should be equal to number of target classes, default 10.\n",
        "\n",
        "  Returns:\n",
        "    An uncompiled Keras Sequential model with model_url as feature\n",
        "    extractor layer and Dense output layer with num_classes outputs.\n",
        "  \"\"\" \n",
        "\n",
        "  # Download the pretrained model and save it as a keras layer \n",
        "  feature_extractor_layer = hub.KerasLayer(model_url, \n",
        "                                           trainable = False, \n",
        "                                           name = 'feature_extraction_layer', \n",
        "                                           input_shape = image_shape+(3,)) \n",
        "  \n",
        "  # create our own model \n",
        "  model = tf.keras.Sequential([\n",
        "      feature_extractor_layer, \n",
        "      layers.Dense(num_classes, activation = 'softmax', \n",
        "                   name = 'output_layer')\n",
        "  ]) \n",
        "  return model"
      ],
      "metadata": {
        "id": "WrrbbT74zAqy"
      },
      "execution_count": 11,
      "outputs": []
    },
    {
      "cell_type": "markdown",
      "source": [
        "### **ResNetV250**"
      ],
      "metadata": {
        "id": "t5EGH4_N1MtV"
      }
    },
    {
      "cell_type": "code",
      "source": [
        "# create model \n",
        "resnet_model = create_model(resnet_url, \n",
        "                            num_classes = train_data_10_percent.num_classes) \n",
        "\n",
        "# compile the model \n",
        "resnet_model.compile(loss = 'categorical_crossentropy', \n",
        "                     optimizer = tf.keras.optimizers.Adam(), \n",
        "                     metrics = ['accuracy'])"
      ],
      "metadata": {
        "id": "b91WCj5X1hGH"
      },
      "execution_count": 12,
      "outputs": []
    },
    {
      "cell_type": "code",
      "source": [
        "# fit the model \n",
        "resnet_history = resnet_model.fit(\n",
        "    train_data_10_percent, epochs = 5, \n",
        "    steps_per_epoch = len(train_data_10_percent), \n",
        "    validation_data = test_data_10_percent, \n",
        "    validation_steps = len(test_data_10_percent), \n",
        "    callbacks = [create_tensorboard_callback(dir_name = 'tensorflow_hub', \n",
        "                                             experiment_name = 'ResNetV250')]\n",
        ") "
      ],
      "metadata": {
        "colab": {
          "base_uri": "https://localhost:8080/"
        },
        "id": "iinEG7Sd2YJm",
        "outputId": "bd132312-b2b1-44ad-ea12-473a89674a3c"
      },
      "execution_count": 17,
      "outputs": [
        {
          "output_type": "stream",
          "name": "stdout",
          "text": [
            "Saving TensorBoard log files to: tensorflow_hub/ResNetV250/20230116-231917\n",
            "Epoch 1/5\n",
            "24/24 [==============================] - 29s 756ms/step - loss: 2.0275 - accuracy: 0.3320 - val_loss: 1.2537 - val_accuracy: 0.6032\n",
            "Epoch 2/5\n",
            "24/24 [==============================] - 16s 682ms/step - loss: 0.9579 - accuracy: 0.7040 - val_loss: 0.8989 - val_accuracy: 0.7096\n",
            "Epoch 3/5\n",
            "24/24 [==============================] - 16s 681ms/step - loss: 0.6481 - accuracy: 0.8067 - val_loss: 0.7617 - val_accuracy: 0.7552\n",
            "Epoch 4/5\n",
            "24/24 [==============================] - 16s 678ms/step - loss: 0.4965 - accuracy: 0.8693 - val_loss: 0.7072 - val_accuracy: 0.7720\n",
            "Epoch 5/5\n",
            "24/24 [==============================] - 16s 679ms/step - loss: 0.3954 - accuracy: 0.9067 - val_loss: 0.6792 - val_accuracy: 0.7772\n"
          ]
        }
      ]
    },
    {
      "cell_type": "markdown",
      "source": [
        "### **Plot loss curves**"
      ],
      "metadata": {
        "id": "NQs8h1eD38Ck"
      }
    },
    {
      "cell_type": "code",
      "source": [
        "# If you wanted to, you could really turn this into a helper function to load in with a helper.py script...\n",
        "import matplotlib.pyplot as plt\n",
        "\n",
        "# Plot the validation and training data separately\n",
        "def plot_loss_curves(history):\n",
        "  \"\"\"\n",
        "  Returns separate loss curves for training and validation metrics.\n",
        "  \"\"\" \n",
        "  loss = history.history['loss']\n",
        "  val_loss = history.history['val_loss']\n",
        "\n",
        "  accuracy = history.history['accuracy']\n",
        "  val_accuracy = history.history['val_accuracy']\n",
        "\n",
        "  epochs = range(len(history.history['loss']))\n",
        "\n",
        "  # Plot loss\n",
        "  plt.plot(epochs, loss, label='training_loss')\n",
        "  plt.plot(epochs, val_loss, label='val_loss')\n",
        "  plt.title('Loss')\n",
        "  plt.xlabel('Epochs')\n",
        "  plt.legend()\n",
        "\n",
        "  # Plot accuracy\n",
        "  plt.figure()\n",
        "  plt.plot(epochs, accuracy, label='training_accuracy')\n",
        "  plt.plot(epochs, val_accuracy, label='val_accuracy')\n",
        "  plt.title('Accuracy')\n",
        "  plt.xlabel('Epochs')\n",
        "  plt.legend();"
      ],
      "metadata": {
        "id": "59kisoj25BWm"
      },
      "execution_count": 18,
      "outputs": []
    },
    {
      "cell_type": "code",
      "source": [
        "plot_loss_curves(resnet_history)"
      ],
      "metadata": {
        "colab": {
          "base_uri": "https://localhost:8080/",
          "height": 573
        },
        "id": "_rFe5QkX5Ffz",
        "outputId": "f6634778-813c-469a-f7a5-8e53d7e4982d"
      },
      "execution_count": 19,
      "outputs": [
        {
          "output_type": "display_data",
          "data": {
            "text/plain": [
              "<Figure size 432x288 with 1 Axes>"
            ],
            "image/png": "[encoded data removed]"
          },
          "metadata": {
            "needs_background": "light"
          }
        },
        {
          "output_type": "display_data",
          "data": {
            "text/plain": [
              "<Figure size 432x288 with 1 Axes>"
            ],
            "image/png": "[encoded data removed]"
          },
          "metadata": {
            "needs_background": "light"
          }
        }
      ]
    },
    {
      "cell_type": "markdown",
      "source": [
        "### **Model summary**"
      ],
      "metadata": {
        "id": "rfAFAZN15Jr4"
      }
    },
    {
      "cell_type": "code",
      "source": [
        "resnet_model.summary()"
      ],
      "metadata": {
        "colab": {
          "base_uri": "https://localhost:8080/"
        },
        "id": "vD0zB5JQ5WPm",
        "outputId": "4b8281d7-159b-49b4-92d2-d34f26e70417"
      },
      "execution_count": 20,
      "outputs": [
        {
          "output_type": "stream",
          "name": "stdout",
          "text": [
            "Model: \"sequential\"\n",
            "_________________________________________________________________\n",
            " Layer (type)                Output Shape              Param #   \n",
            "=================================================================\n",
            " feature_extraction_layer (K  (None, 2048)             23564800  \n",
            " erasLayer)                                                      \n",
            "                                                                 \n",
            " output_layer (Dense)        (None, 10)                20490     \n",
            "                                                                 \n",
            "=================================================================\n",
            "Total params: 23,585,290\n",
            "Trainable params: 20,490\n",
            "Non-trainable params: 23,564,800\n",
            "_________________________________________________________________\n"
          ]
        }
      ]
    },
    {
      "cell_type": "markdown",
      "source": [
        "### **EfficientNetB0**"
      ],
      "metadata": {
        "id": "kykuvASu5mc8"
      }
    },
    {
      "cell_type": "code",
      "source": [
        "# create model \n",
        "efficientNet_model = create_model(efficient_url, \n",
        "                            num_classes = train_data_10_percent.num_classes) \n",
        "\n",
        "# compile the model \n",
        "efficientNet_model.compile(loss = 'categorical_crossentropy', \n",
        "                     optimizer = tf.keras.optimizers.Adam(), \n",
        "                     metrics = ['accuracy'])"
      ],
      "metadata": {
        "id": "fcP8eES16Hga"
      },
      "execution_count": 26,
      "outputs": []
    },
    {
      "cell_type": "code",
      "source": [
        "# fit the model \n",
        "efficientNet_history = efficientNet_model.fit(\n",
        "    train_data_10_percent, epochs = 5, \n",
        "    steps_per_epoch = len(train_data_10_percent), \n",
        "    validation_data = test_data_10_percent, \n",
        "    validation_steps = len(test_data_10_percent), \n",
        "    callbacks = [create_tensorboard_callback(dir_name = 'tensorflow_hub', \n",
        "                                             experiment_name = 'EfficientNetB0')]\n",
        ") "
      ],
      "metadata": {
        "colab": {
          "base_uri": "https://localhost:8080/"
        },
        "id": "vRsr6hrC8XYp",
        "outputId": "f32b8fcf-0b56-4d2b-be3a-642b50d74003"
      },
      "execution_count": 27,
      "outputs": [
        {
          "output_type": "stream",
          "name": "stdout",
          "text": [
            "Saving TensorBoard log files to: tensorflow_hub/EfficientNetB0/20230116-234304\n",
            "Epoch 1/5\n",
            "24/24 [==============================] - 25s 729ms/step - loss: 1.8278 - accuracy: 0.4467 - val_loss: 1.2903 - val_accuracy: 0.7444\n",
            "Epoch 2/5\n",
            "24/24 [==============================] - 15s 664ms/step - loss: 1.0346 - accuracy: 0.8093 - val_loss: 0.8646 - val_accuracy: 0.8204\n",
            "Epoch 3/5\n",
            "24/24 [==============================] - 16s 696ms/step - loss: 0.7407 - accuracy: 0.8547 - val_loss: 0.6938 - val_accuracy: 0.8424\n",
            "Epoch 4/5\n",
            "24/24 [==============================] - 15s 659ms/step - loss: 0.5948 - accuracy: 0.8747 - val_loss: 0.6054 - val_accuracy: 0.8560\n",
            "Epoch 5/5\n",
            "24/24 [==============================] - 15s 665ms/step - loss: 0.5009 - accuracy: 0.8960 - val_loss: 0.5540 - val_accuracy: 0.8628\n"
          ]
        }
      ]
    },
    {
      "cell_type": "code",
      "source": [
        "plot_loss_curves(efficientNet_history)"
      ],
      "metadata": {
        "colab": {
          "base_uri": "https://localhost:8080/",
          "height": 573
        },
        "id": "7EN1GwOr8m0P",
        "outputId": "8c5b1dc0-f568-471f-9233-e48f9e7670aa"
      },
      "execution_count": 28,
      "outputs": [
        {
          "output_type": "display_data",
          "data": {
            "text/plain": [
              "<Figure size 432x288 with 1 Axes>"
            ],
            "image/png": "[encoded data removed]"
          },
          "metadata": {
            "needs_background": "light"
          }
        },
        {
          "output_type": "display_data",
          "data": {
            "text/plain": [
              "<Figure size 432x288 with 1 Axes>"
            ],
            "image/png": "[encoded data removed]"
          },
          "metadata": {
            "needs_background": "light"
          }
        }
      ]
    },
    {
      "cell_type": "code",
      "source": [
        "efficient_model.summary()"
      ],
      "metadata": {
        "colab": {
          "base_uri": "https://localhost:8080/"
        },
        "id": "KE-inYU_-ehR",
        "outputId": "603c82c7-81ce-4423-d3de-cc633f5b432a"
      },
      "execution_count": 29,
      "outputs": [
        {
          "output_type": "stream",
          "name": "stdout",
          "text": [
            "Model: \"sequential_1\"\n",
            "_________________________________________________________________\n",
            " Layer (type)                Output Shape              Param #   \n",
            "=================================================================\n",
            " feature_extraction_layer (K  (None, 2048)             23564800  \n",
            " erasLayer)                                                      \n",
            "                                                                 \n",
            " output_layer (Dense)        (None, 10)                20490     \n",
            "                                                                 \n",
            "=================================================================\n",
            "Total params: 23,585,290\n",
            "Trainable params: 20,490\n",
            "Non-trainable params: 23,564,800\n",
            "_________________________________________________________________\n"
          ]
        }
      ]
    },
    {
      "cell_type": "markdown",
      "source": [
        "### **Comparing Models using TensorBoard**"
      ],
      "metadata": {
        "id": "vBLUnvmn-xl6"
      }
    },
    {
      "cell_type": "markdown",
      "source": [
        "- Since we set up a TensorBoard callback, all of our model's training logs have been saved automatically. To visualize them, we can upload the results to [TensorBoard.dev]('https://tensorboard.dev/')"
      ],
      "metadata": {
        "id": "_F8I5nsC-77a"
      }
    },
    {
      "cell_type": "code",
      "source": [
        "# upload TensorBoard dev records \n",
        "!tensorboard dev upload --logdir ./tensorflow_hub/ \\ \n",
        "  --name 'EfficientNetB0 vs ResNet50V2' \\ \n",
        "  --description 'Comparing two different TF Hub feature extraction model'\n",
        "  --one_shot"
      ],
      "metadata": {
        "colab": {
          "base_uri": "https://localhost:8080/",
          "height": 130
        },
        "id": "chGBkrtI_hGN",
        "outputId": "8c3a40eb-d514-427d-a248-a321fccd9884"
      },
      "execution_count": 30,
      "outputs": [
        {
          "output_type": "error",
          "ename": "IndentationError",
          "evalue": "ignored",
          "traceback": [
            "\u001b[0;36m  File \u001b[0;32m\"<ipython-input-30-ab61e345c26f>\"\u001b[0;36m, line \u001b[0;32m3\u001b[0m\n\u001b[0;31m    --name 'EfficientNetB0 vs ResNet50V2' \\\u001b[0m\n\u001b[0m    ^\u001b[0m\n\u001b[0;31mIndentationError\u001b[0m\u001b[0;31m:\u001b[0m unexpected indent\n"
          ]
        }
      ]
    },
    {
      "cell_type": "code",
      "source": [
        "# Upload TensorBoard dev records\n",
        "!tensorboard dev upload --logdir ./tensorflow_hub/ \\\n",
        "  --name \"EfficientNetB0 vs. ResNet50V2\" \\\n",
        "  --description \"Comparing two different TF Hub feature extraction models architectures using 10% of training images\" \\\n",
        "  --one_shot"
      ],
      "metadata": {
        "colab": {
          "base_uri": "https://localhost:8080/"
        },
        "id": "47dy7l3pASjl",
        "outputId": "9ea95e39-d383-46c0-c041-2915b6ad8345"
      },
      "execution_count": 31,
      "outputs": [
        {
          "output_type": "stream",
          "name": "stdout",
          "text": [
            "\n",
            "***** TensorBoard Uploader *****\n",
            "\n",
            "This will upload your TensorBoard logs to https://tensorboard.dev/ from\n",
            "the following directory:\n",
            "\n",
            "./tensorflow_hub/\n",
            "\n",
            "This TensorBoard will be visible to everyone. Do not upload sensitive\n",
            "data.\n",
            "\n",
            "Your use of this service is subject to Google's Terms of Service\n",
            "<https://policies.google.com/terms> and Privacy Policy\n",
            "<https://policies.google.com/privacy>, and TensorBoard.dev's Terms of Service\n",
            "<https://tensorboard.dev/policy/terms/>.\n",
            "\n",
            "This notice will not be shown again while you are logged into the uploader.\n",
            "To log out, run `tensorboard dev auth revoke`.\n",
            "\n",
            "Continue? (yes/NO) yes\n",
            "\n",
            "Please visit this URL to authorize this application: https://accounts.google.com/o/oauth2/auth?response_type=code&client_id=373649185512-8v619h5kft38l4456nm2dj4ubeqsrvh6.apps.googleusercontent.com&redirect_uri=urn%3Aietf%3Awg%3Aoauth%3A2.0%3Aoob&scope=openid+https%3A%2F%2Fwww.googleapis.com%2Fauth%2Fuserinfo.email&state=FYz0oDANwwEEFz50LKvIUvC68XoKYy&prompt=consent&access_type=offline\n",
            "Enter the authorization code: 4/1AWgavdfG0gbwOrgV8akII0NT8SG1OgYZMakt9mwuSnWPu8ueUV3NYhvefd4\n",
            "\n",
            "\n",
            "New experiment created. View your TensorBoard at: https://tensorboard.dev/experiment/NhJDn9S6Swu6rzflqNHKYg/\n",
            "\n",
            "\u001b[1m[2023-01-16T23:56:31]\u001b[0m Started scanning logdir.\n",
            "\u001b[1m[2023-01-16T23:56:34]\u001b[0m Total uploaded: 90 scalars, 0 tensors, 3 binary objects (7.2 MB)\n",
            "\u001b[1m[2023-01-16T23:56:34]\u001b[0m Done scanning logdir.\n",
            "\n",
            "\n",
            "Done. View your TensorBoard at https://tensorboard.dev/experiment/NhJDn9S6Swu6rzflqNHKYg/\n"
          ]
        }
      ]
    },
    {
      "cell_type": "code",
      "source": [
        "# tensorboard dev list - check out experiments\n",
        "!tensorboard dev list"
      ],
      "metadata": {
        "colab": {
          "base_uri": "https://localhost:8080/"
        },
        "id": "ilJM5U5OAgbl",
        "outputId": "38744645-72ba-4fc9-95cc-4e964404536c"
      },
      "execution_count": 33,
      "outputs": [
        {
          "output_type": "stream",
          "name": "stdout",
          "text": [
            "https://tensorboard.dev/experiment/NhJDn9S6Swu6rzflqNHKYg/\n",
            "\tName                 EfficientNetB0 vs. ResNet50V2\n",
            "\tDescription          Comparing two different TF Hub feature extraction models architectures using 10% of training images\n",
            "\tId                   NhJDn9S6Swu6rzflqNHKYg\n",
            "\tCreated              2023-01-16 23:56:31 (7 minutes ago)\n",
            "\tUpdated              2023-01-16 23:56:34 (7 minutes ago)\n",
            "\tRuns                 6\n",
            "\tTags                 5\n",
            "\tScalars              90\n",
            "\tTensor bytes         0\n",
            "\tBinary object bytes  7518608\n",
            "Total: 1 experiment(s)\n"
          ]
        }
      ]
    },
    {
      "cell_type": "code",
      "source": [
        "# Delete an experiment \n",
        "!tensorboard dev delete --experiment id ###########"
      ],
      "metadata": {
        "id": "g585h1v2CPw5"
      },
      "execution_count": null,
      "outputs": []
    }
  ]
}