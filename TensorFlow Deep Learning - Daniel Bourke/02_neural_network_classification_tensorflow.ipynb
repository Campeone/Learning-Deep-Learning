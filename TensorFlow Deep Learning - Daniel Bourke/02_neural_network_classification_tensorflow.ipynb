{
  "nbformat": 4,
  "nbformat_minor": 0,
  "metadata": {
    "colab": {
      "provenance": []
    },
    "kernelspec": {
      "name": "python3",
      "display_name": "Python 3"
    },
    "language_info": {
      "name": "python"
    },
    "accelerator": "GPU",
    "gpuClass": "standard"
  },
  "cells": [
    {
      "cell_type": "code",
      "execution_count": 71,
      "metadata": {
        "colab": {
          "base_uri": "https://localhost:8080/"
        },
        "id": "xXKCVksTY-o_",
        "outputId": "1ec833d6-5417-495f-ced5-fd77fe68b5a8"
      },
      "outputs": [
        {
          "output_type": "stream",
          "name": "stdout",
          "text": [
            "2.9.2\n"
          ]
        }
      ],
      "source": [
        "import tensorflow as tf \n",
        "print(tf.__version__)"
      ]
    },
    {
      "cell_type": "markdown",
      "source": [
        "## Introduction to Neural Networks Classification with tensorflow \n",
        "A classification problem involves predicting whether something is one thing or another.\n",
        "A few types of Classification problems\n",
        "1. binary classification\n",
        "2. multi class classification \n",
        "3. multi label classification"
      ],
      "metadata": {
        "id": "ju76TtWGoRwB"
      }
    },
    {
      "cell_type": "markdown",
      "source": [
        "## Creating data to view"
      ],
      "metadata": {
        "id": "namnN6Vudswg"
      }
    },
    {
      "cell_type": "code",
      "source": [
        "from sklearn.datasets import make_circles\n",
        "\n",
        "# Make 1000 examples \n",
        "n_samples = 1000 \n",
        "\n",
        "# create circles \n",
        "X, y = make_circles(n_samples, noise = 0.03, random_state = 42)"
      ],
      "metadata": {
        "id": "hPcwI9EedwoT"
      },
      "execution_count": 72,
      "outputs": []
    },
    {
      "cell_type": "code",
      "source": [
        "X"
      ],
      "metadata": {
        "colab": {
          "base_uri": "https://localhost:8080/"
        },
        "id": "4oBttITZeQhn",
        "outputId": "04e09bcd-f049-487d-e944-cccb83b47416"
      },
      "execution_count": 73,
      "outputs": [
        {
          "output_type": "execute_result",
          "data": {
            "text/plain": [
              "array([[ 0.75424625,  0.23148074],\n",
              "       [-0.75615888,  0.15325888],\n",
              "       [-0.81539193,  0.17328203],\n",
              "       ...,\n",
              "       [-0.13690036, -0.81001183],\n",
              "       [ 0.67036156, -0.76750154],\n",
              "       [ 0.28105665,  0.96382443]])"
            ]
          },
          "metadata": {},
          "execution_count": 73
        }
      ]
    },
    {
      "cell_type": "code",
      "source": [
        "y[:10]"
      ],
      "metadata": {
        "colab": {
          "base_uri": "https://localhost:8080/"
        },
        "id": "zP1l26p9eSUe",
        "outputId": "4df113fe-6cdf-40ca-a555-7848ea089ee9"
      },
      "execution_count": 74,
      "outputs": [
        {
          "output_type": "execute_result",
          "data": {
            "text/plain": [
              "array([1, 1, 1, 1, 0, 1, 1, 1, 1, 0])"
            ]
          },
          "metadata": {},
          "execution_count": 74
        }
      ]
    },
    {
      "cell_type": "markdown",
      "source": [
        "### Let's visualize the data"
      ],
      "metadata": {
        "id": "q7eg4YvJeaJI"
      }
    },
    {
      "cell_type": "code",
      "source": [
        "import pandas as pd \n",
        "circles = pd.DataFrame({'X0':X[:, 0], 'X1':X[:, 1], 'label':y})\n",
        "circles.head()"
      ],
      "metadata": {
        "colab": {
          "base_uri": "https://localhost:8080/",
          "height": 206
        },
        "id": "nQZt6Fm-eivd",
        "outputId": "b1812e07-fa40-4277-f279-f8adeade01d1"
      },
      "execution_count": 75,
      "outputs": [
        {
          "output_type": "execute_result",
          "data": {
            "text/plain": [
              "         X0        X1  label\n",
              "0  0.754246  0.231481      1\n",
              "1 -0.756159  0.153259      1\n",
              "2 -0.815392  0.173282      1\n",
              "3 -0.393731  0.692883      1\n",
              "4  0.442208 -0.896723      0"
            ],
            "text/html": [
              "\n",
              "  <div id=\"df-0e7c4196-21f9-4c11-ba27-9f8e93ff752d\">\n",
              "    <div class=\"colab-df-container\">\n",
              "      <div>\n",
              "<style scoped>\n",
              "    .dataframe tbody tr th:only-of-type {\n",
              "        vertical-align: middle;\n",
              "    }\n",
              "\n",
              "    .dataframe tbody tr th {\n",
              "        vertical-align: top;\n",
              "    }\n",
              "\n",
              "    .dataframe thead th {\n",
              "        text-align: right;\n",
              "    }\n",
              "</style>\n",
              "<table border=\"1\" class=\"dataframe\">\n",
              "  <thead>\n",
              "    <tr style=\"text-align: right;\">\n",
              "      <th></th>\n",
              "      <th>X0</th>\n",
              "      <th>X1</th>\n",
              "      <th>label</th>\n",
              "    </tr>\n",
              "  </thead>\n",
              "  <tbody>\n",
              "    <tr>\n",
              "      <th>0</th>\n",
              "      <td>0.754246</td>\n",
              "      <td>0.231481</td>\n",
              "      <td>1</td>\n",
              "    </tr>\n",
              "    <tr>\n",
              "      <th>1</th>\n",
              "      <td>-0.756159</td>\n",
              "      <td>0.153259</td>\n",
              "      <td>1</td>\n",
              "    </tr>\n",
              "    <tr>\n",
              "      <th>2</th>\n",
              "      <td>-0.815392</td>\n",
              "      <td>0.173282</td>\n",
              "      <td>1</td>\n",
              "    </tr>\n",
              "    <tr>\n",
              "      <th>3</th>\n",
              "      <td>-0.393731</td>\n",
              "      <td>0.692883</td>\n",
              "      <td>1</td>\n",
              "    </tr>\n",
              "    <tr>\n",
              "      <th>4</th>\n",
              "      <td>0.442208</td>\n",
              "      <td>-0.896723</td>\n",
              "      <td>0</td>\n",
              "    </tr>\n",
              "  </tbody>\n",
              "</table>\n",
              "</div>\n",
              "      <button class=\"colab-df-convert\" onclick=\"convertToInteractive('df-0e7c4196-21f9-4c11-ba27-9f8e93ff752d')\"\n",
              "              title=\"Convert this dataframe to an interactive table.\"\n",
              "              style=\"display:none;\">\n",
              "        \n",
              "  <svg xmlns=\"http://www.w3.org/2000/svg\" height=\"24px\"viewBox=\"0 0 24 24\"\n",
              "       width=\"24px\">\n",
              "    <path d=\"M0 0h24v24H0V0z\" fill=\"none\"/>\n",
              "    <path d=\"M18.56 5.44l.94 2.06.94-2.06 2.06-.94-2.06-.94-.94-2.06-.94 2.06-2.06.94zm-11 1L8.5 8.5l.94-2.06 2.06-.94-2.06-.94L8.5 2.5l-.94 2.06-2.06.94zm10 10l.94 2.06.94-2.06 2.06-.94-2.06-.94-.94-2.06-.94 2.06-2.06.94z\"/><path d=\"M17.41 7.96l-1.37-1.37c-.4-.4-.92-.59-1.43-.59-.52 0-1.04.2-1.43.59L10.3 9.45l-7.72 7.72c-.78.78-.78 2.05 0 2.83L4 21.41c.39.39.9.59 1.41.59.51 0 1.02-.2 1.41-.59l7.78-7.78 2.81-2.81c.8-.78.8-2.07 0-2.86zM5.41 20L4 18.59l7.72-7.72 1.47 1.35L5.41 20z\"/>\n",
              "  </svg>\n",
              "      </button>\n",
              "      \n",
              "  <style>\n",
              "    .colab-df-container {\n",
              "      display:flex;\n",
              "      flex-wrap:wrap;\n",
              "      gap: 12px;\n",
              "    }\n",
              "\n",
              "    .colab-df-convert {\n",
              "      background-color: #E8F0FE;\n",
              "      border: none;\n",
              "      border-radius: 50%;\n",
              "      cursor: pointer;\n",
              "      display: none;\n",
              "      fill: #1967D2;\n",
              "      height: 32px;\n",
              "      padding: 0 0 0 0;\n",
              "      width: 32px;\n",
              "    }\n",
              "\n",
              "    .colab-df-convert:hover {\n",
              "      background-color: #E2EBFA;\n",
              "      box-shadow: 0px 1px 2px rgba(60, 64, 67, 0.3), 0px 1px 3px 1px rgba(60, 64, 67, 0.15);\n",
              "      fill: #174EA6;\n",
              "    }\n",
              "\n",
              "    [theme=dark] .colab-df-convert {\n",
              "      background-color: #3B4455;\n",
              "      fill: #D2E3FC;\n",
              "    }\n",
              "\n",
              "    [theme=dark] .colab-df-convert:hover {\n",
              "      background-color: #434B5C;\n",
              "      box-shadow: 0px 1px 3px 1px rgba(0, 0, 0, 0.15);\n",
              "      filter: drop-shadow(0px 1px 2px rgba(0, 0, 0, 0.3));\n",
              "      fill: #FFFFFF;\n",
              "    }\n",
              "  </style>\n",
              "\n",
              "      <script>\n",
              "        const buttonEl =\n",
              "          document.querySelector('#df-0e7c4196-21f9-4c11-ba27-9f8e93ff752d button.colab-df-convert');\n",
              "        buttonEl.style.display =\n",
              "          google.colab.kernel.accessAllowed ? 'block' : 'none';\n",
              "\n",
              "        async function convertToInteractive(key) {\n",
              "          const element = document.querySelector('#df-0e7c4196-21f9-4c11-ba27-9f8e93ff752d');\n",
              "          const dataTable =\n",
              "            await google.colab.kernel.invokeFunction('convertToInteractive',\n",
              "                                                     [key], {});\n",
              "          if (!dataTable) return;\n",
              "\n",
              "          const docLinkHtml = 'Like what you see? Visit the ' +\n",
              "            '<a target=\"_blank\" href=https://colab.research.google.com/notebooks/data_table.ipynb>data table notebook</a>'\n",
              "            + ' to learn more about interactive tables.';\n",
              "          element.innerHTML = '';\n",
              "          dataTable['output_type'] = 'display_data';\n",
              "          await google.colab.output.renderOutput(dataTable, element);\n",
              "          const docLink = document.createElement('div');\n",
              "          docLink.innerHTML = docLinkHtml;\n",
              "          element.appendChild(docLink);\n",
              "        }\n",
              "      </script>\n",
              "    </div>\n",
              "  </div>\n",
              "  "
            ]
          },
          "metadata": {},
          "execution_count": 75
        }
      ]
    },
    {
      "cell_type": "code",
      "source": [
        "import matplotlib.pyplot as plt \n",
        "plt.scatter(X[:, 0], X[:, 1], c = y, cmap = plt.cm.RdYlBu)"
      ],
      "metadata": {
        "colab": {
          "base_uri": "https://localhost:8080/",
          "height": 282
        },
        "id": "OeKeKZ3Ge4O7",
        "outputId": "d4664f5b-9503-49a6-fa15-333ee9ed5746"
      },
      "execution_count": 76,
      "outputs": [
        {
          "output_type": "execute_result",
          "data": {
            "text/plain": [
              "<matplotlib.collections.PathCollection at 0x7fe68d6806d0>"
            ]
          },
          "metadata": {},
          "execution_count": 76
        },
        {
          "output_type": "display_data",
          "data": {
            "text/plain": [
              "<Figure size 432x288 with 1 Axes>"
            ],
            "image/png": "[encoded data removed]"
          },
          "metadata": {
            "needs_background": "light"
          }
        }
      ]
    },
    {
      "cell_type": "code",
      "source": [
        "# shape\n",
        "X.shape, y.shape"
      ],
      "metadata": {
        "colab": {
          "base_uri": "https://localhost:8080/"
        },
        "id": "vjk5PrKyh4zE",
        "outputId": "b2d4d7b7-a9d4-471c-b3a6-cc4c599d286e"
      },
      "execution_count": 77,
      "outputs": [
        {
          "output_type": "execute_result",
          "data": {
            "text/plain": [
              "((1000, 2), (1000,))"
            ]
          },
          "metadata": {},
          "execution_count": 77
        }
      ]
    },
    {
      "cell_type": "code",
      "source": [
        "# samples number \n",
        "len(X), len(y)"
      ],
      "metadata": {
        "colab": {
          "base_uri": "https://localhost:8080/"
        },
        "id": "VaeQoaqeh1x8",
        "outputId": "c69bb76f-9a53-4df4-ad10-1de38e063704"
      },
      "execution_count": 78,
      "outputs": [
        {
          "output_type": "execute_result",
          "data": {
            "text/plain": [
              "(1000, 1000)"
            ]
          },
          "metadata": {},
          "execution_count": 78
        }
      ]
    },
    {
      "cell_type": "markdown",
      "source": [
        "### Build a Neural Network"
      ],
      "metadata": {
        "id": "z5D-1K5ChN2n"
      }
    },
    {
      "cell_type": "code",
      "source": [
        "# set random seed \n",
        "tf.random.set_seed(42)\n",
        "\n",
        "# 1. Create a model \n",
        "model_1 = tf.keras.Sequential([\n",
        "    tf.keras.layers.Dense(1)\n",
        "])\n",
        "\n",
        "# 2. Compile the model \n",
        "model_1.compile(loss = tf.keras.losses.BinaryCrossentropy(), \n",
        "                optimizer = tf.keras.optimizers.SGD(), \n",
        "                metrics = ['accuracy'])\n",
        "\n",
        "# 3. Fit the model \n",
        "model_1.fit(tf.expand_dims(X, axis = -1), y, epochs = 5) "
      ],
      "metadata": {
        "colab": {
          "base_uri": "https://localhost:8080/"
        },
        "id": "3fYUs0dwjNsR",
        "outputId": "43947fba-a313-4aa7-ff2e-1e7d7ae62f81"
      },
      "execution_count": 79,
      "outputs": [
        {
          "output_type": "stream",
          "name": "stdout",
          "text": [
            "Epoch 1/5\n",
            "32/32 [==============================] - 1s 5ms/step - loss: 2.7406 - accuracy: 0.4925\n",
            "Epoch 2/5\n",
            "32/32 [==============================] - 0s 7ms/step - loss: 0.7410 - accuracy: 0.4992\n",
            "Epoch 3/5\n",
            "32/32 [==============================] - 0s 6ms/step - loss: 0.7079 - accuracy: 0.4961\n",
            "Epoch 4/5\n",
            "32/32 [==============================] - 0s 6ms/step - loss: 0.6980 - accuracy: 0.4986\n",
            "Epoch 5/5\n",
            "32/32 [==============================] - 0s 7ms/step - loss: 0.6950 - accuracy: 0.5012\n"
          ]
        },
        {
          "output_type": "execute_result",
          "data": {
            "text/plain": [
              "<keras.callbacks.History at 0x7fe68dbd5bb0>"
            ]
          },
          "metadata": {},
          "execution_count": 79
        }
      ]
    },
    {
      "cell_type": "markdown",
      "source": [
        "- The model is only 50% accurate, it seems the model is just guessing. \n",
        "Let's improve it by training it for longer"
      ],
      "metadata": {
        "id": "arYIdPN4kukj"
      }
    },
    {
      "cell_type": "code",
      "source": [
        "# 3. Fit the model \n",
        "model_1.fit(tf.expand_dims(X, axis = -1), y, epochs = 200) \n",
        "model_1.evaluate(X, y)"
      ],
      "metadata": {
        "colab": {
          "base_uri": "https://localhost:8080/"
        },
        "id": "WEa2P8QBmNIl",
        "outputId": "d2b3e591-fa5d-4d59-fc7b-acc11521f9b5"
      },
      "execution_count": 80,
      "outputs": [
        {
          "output_type": "stream",
          "name": "stdout",
          "text": [
            "Epoch 1/200\n",
            "32/32 [==============================] - 0s 6ms/step - loss: 0.6944 - accuracy: 0.4928\n",
            "Epoch 2/200\n",
            "32/32 [==============================] - 0s 7ms/step - loss: 0.6937 - accuracy: 0.4956\n",
            "Epoch 3/200\n",
            "32/32 [==============================] - 0s 9ms/step - loss: 0.6941 - accuracy: 0.4854\n",
            "Epoch 4/200\n",
            "32/32 [==============================] - 0s 7ms/step - loss: 0.6937 - accuracy: 0.4732\n",
            "Epoch 5/200\n",
            "32/32 [==============================] - 0s 6ms/step - loss: 0.6936 - accuracy: 0.4888\n",
            "Epoch 6/200\n",
            "32/32 [==============================] - 0s 6ms/step - loss: 0.6932 - accuracy: 0.5085\n",
            "Epoch 7/200\n",
            "32/32 [==============================] - 0s 5ms/step - loss: 0.6938 - accuracy: 0.5000\n",
            "Epoch 8/200\n",
            "32/32 [==============================] - 0s 4ms/step - loss: 0.6937 - accuracy: 0.4703\n",
            "Epoch 9/200\n",
            "32/32 [==============================] - 0s 8ms/step - loss: 0.6936 - accuracy: 0.4895\n",
            "Epoch 10/200\n",
            "32/32 [==============================] - 0s 7ms/step - loss: 0.6933 - accuracy: 0.4989\n",
            "Epoch 11/200\n",
            "32/32 [==============================] - 0s 9ms/step - loss: 0.6937 - accuracy: 0.4730\n",
            "Epoch 12/200\n",
            "32/32 [==============================] - 0s 7ms/step - loss: 0.6940 - accuracy: 0.4971\n",
            "Epoch 13/200\n",
            "32/32 [==============================] - 0s 8ms/step - loss: 0.6937 - accuracy: 0.4949\n",
            "Epoch 14/200\n",
            "32/32 [==============================] - 0s 6ms/step - loss: 0.6939 - accuracy: 0.4835\n",
            "Epoch 15/200\n",
            "32/32 [==============================] - 0s 6ms/step - loss: 0.6935 - accuracy: 0.4860\n",
            "Epoch 16/200\n",
            "32/32 [==============================] - 0s 6ms/step - loss: 0.6939 - accuracy: 0.4660\n",
            "Epoch 17/200\n",
            "32/32 [==============================] - 0s 5ms/step - loss: 0.6935 - accuracy: 0.4880\n",
            "Epoch 18/200\n",
            "32/32 [==============================] - 0s 4ms/step - loss: 0.6937 - accuracy: 0.4762\n",
            "Epoch 19/200\n",
            "32/32 [==============================] - 0s 6ms/step - loss: 0.6937 - accuracy: 0.4900\n",
            "Epoch 20/200\n",
            "32/32 [==============================] - 0s 6ms/step - loss: 0.6936 - accuracy: 0.4735\n",
            "Epoch 21/200\n",
            "32/32 [==============================] - 0s 8ms/step - loss: 0.6934 - accuracy: 0.4984\n",
            "Epoch 22/200\n",
            "32/32 [==============================] - 0s 6ms/step - loss: 0.6938 - accuracy: 0.4826\n",
            "Epoch 23/200\n",
            "32/32 [==============================] - 0s 6ms/step - loss: 0.6936 - accuracy: 0.4856\n",
            "Epoch 24/200\n",
            "32/32 [==============================] - 0s 6ms/step - loss: 0.6938 - accuracy: 0.4964\n",
            "Epoch 25/200\n",
            "32/32 [==============================] - 0s 7ms/step - loss: 0.6935 - accuracy: 0.4894\n",
            "Epoch 26/200\n",
            "32/32 [==============================] - 0s 5ms/step - loss: 0.6937 - accuracy: 0.4868\n",
            "Epoch 27/200\n",
            "32/32 [==============================] - 0s 5ms/step - loss: 0.6932 - accuracy: 0.5097\n",
            "Epoch 28/200\n",
            "32/32 [==============================] - 0s 5ms/step - loss: 0.6938 - accuracy: 0.4808\n",
            "Epoch 29/200\n",
            "32/32 [==============================] - 0s 5ms/step - loss: 0.6937 - accuracy: 0.4939\n",
            "Epoch 30/200\n",
            "32/32 [==============================] - 0s 5ms/step - loss: 0.6935 - accuracy: 0.4980\n",
            "Epoch 31/200\n",
            "32/32 [==============================] - 0s 6ms/step - loss: 0.6936 - accuracy: 0.5000\n",
            "Epoch 32/200\n",
            "32/32 [==============================] - 0s 9ms/step - loss: 0.6937 - accuracy: 0.4991\n",
            "Epoch 33/200\n",
            "32/32 [==============================] - 0s 6ms/step - loss: 0.6936 - accuracy: 0.4858\n",
            "Epoch 34/200\n",
            "32/32 [==============================] - 0s 6ms/step - loss: 0.6940 - accuracy: 0.4896\n",
            "Epoch 35/200\n",
            "32/32 [==============================] - 0s 6ms/step - loss: 0.6936 - accuracy: 0.5017\n",
            "Epoch 36/200\n",
            "32/32 [==============================] - 0s 6ms/step - loss: 0.6939 - accuracy: 0.4746\n",
            "Epoch 37/200\n",
            "32/32 [==============================] - 0s 8ms/step - loss: 0.6935 - accuracy: 0.4952\n",
            "Epoch 38/200\n",
            "32/32 [==============================] - 0s 6ms/step - loss: 0.6937 - accuracy: 0.4817\n",
            "Epoch 39/200\n",
            "32/32 [==============================] - 0s 8ms/step - loss: 0.6935 - accuracy: 0.4878\n",
            "Epoch 40/200\n",
            "32/32 [==============================] - 0s 5ms/step - loss: 0.6943 - accuracy: 0.4588\n",
            "Epoch 41/200\n",
            "32/32 [==============================] - 0s 7ms/step - loss: 0.6936 - accuracy: 0.4874\n",
            "Epoch 42/200\n",
            "32/32 [==============================] - 0s 4ms/step - loss: 0.6937 - accuracy: 0.4980\n",
            "Epoch 43/200\n",
            "32/32 [==============================] - 0s 4ms/step - loss: 0.6937 - accuracy: 0.4825\n",
            "Epoch 44/200\n",
            "32/32 [==============================] - 0s 8ms/step - loss: 0.6932 - accuracy: 0.5100\n",
            "Epoch 45/200\n",
            "32/32 [==============================] - 0s 8ms/step - loss: 0.6939 - accuracy: 0.4831\n",
            "Epoch 46/200\n",
            "32/32 [==============================] - 0s 8ms/step - loss: 0.6937 - accuracy: 0.4765\n",
            "Epoch 47/200\n",
            "32/32 [==============================] - 0s 6ms/step - loss: 0.6934 - accuracy: 0.5035\n",
            "Epoch 48/200\n",
            "32/32 [==============================] - 0s 6ms/step - loss: 0.6936 - accuracy: 0.4942\n",
            "Epoch 49/200\n",
            "32/32 [==============================] - 0s 3ms/step - loss: 0.6937 - accuracy: 0.4836\n",
            "Epoch 50/200\n",
            "32/32 [==============================] - 0s 4ms/step - loss: 0.6936 - accuracy: 0.4981\n",
            "Epoch 51/200\n",
            "32/32 [==============================] - 0s 6ms/step - loss: 0.6937 - accuracy: 0.4909\n",
            "Epoch 52/200\n",
            "32/32 [==============================] - 0s 6ms/step - loss: 0.6936 - accuracy: 0.4927\n",
            "Epoch 53/200\n",
            "32/32 [==============================] - 0s 6ms/step - loss: 0.6936 - accuracy: 0.4787\n",
            "Epoch 54/200\n",
            "32/32 [==============================] - 0s 6ms/step - loss: 0.6937 - accuracy: 0.4903\n",
            "Epoch 55/200\n",
            "32/32 [==============================] - 0s 7ms/step - loss: 0.6937 - accuracy: 0.5022\n",
            "Epoch 56/200\n",
            "32/32 [==============================] - 0s 9ms/step - loss: 0.6936 - accuracy: 0.4885\n",
            "Epoch 57/200\n",
            "32/32 [==============================] - 0s 6ms/step - loss: 0.6938 - accuracy: 0.4889\n",
            "Epoch 58/200\n",
            "32/32 [==============================] - 0s 6ms/step - loss: 0.6938 - accuracy: 0.4852\n",
            "Epoch 59/200\n",
            "32/32 [==============================] - 0s 7ms/step - loss: 0.6934 - accuracy: 0.5040\n",
            "Epoch 60/200\n",
            "32/32 [==============================] - 0s 6ms/step - loss: 0.6937 - accuracy: 0.4973\n",
            "Epoch 61/200\n",
            "32/32 [==============================] - 0s 6ms/step - loss: 0.6939 - accuracy: 0.5000\n",
            "Epoch 62/200\n",
            "32/32 [==============================] - 0s 7ms/step - loss: 0.6936 - accuracy: 0.5000\n",
            "Epoch 63/200\n",
            "32/32 [==============================] - 0s 7ms/step - loss: 0.6938 - accuracy: 0.4853\n",
            "Epoch 64/200\n",
            "32/32 [==============================] - 0s 5ms/step - loss: 0.6937 - accuracy: 0.4883\n",
            "Epoch 65/200\n",
            "32/32 [==============================] - 0s 6ms/step - loss: 0.6937 - accuracy: 0.4888\n",
            "Epoch 66/200\n",
            "32/32 [==============================] - 0s 7ms/step - loss: 0.6937 - accuracy: 0.4885\n",
            "Epoch 67/200\n",
            "32/32 [==============================] - 0s 7ms/step - loss: 0.6941 - accuracy: 0.4901\n",
            "Epoch 68/200\n",
            "32/32 [==============================] - 0s 5ms/step - loss: 0.6935 - accuracy: 0.4927\n",
            "Epoch 69/200\n",
            "32/32 [==============================] - 0s 6ms/step - loss: 0.6937 - accuracy: 0.4989\n",
            "Epoch 70/200\n",
            "32/32 [==============================] - 0s 6ms/step - loss: 0.6938 - accuracy: 0.4789\n",
            "Epoch 71/200\n",
            "32/32 [==============================] - 0s 6ms/step - loss: 0.6934 - accuracy: 0.4984\n",
            "Epoch 72/200\n",
            "32/32 [==============================] - 0s 6ms/step - loss: 0.6938 - accuracy: 0.4836\n",
            "Epoch 73/200\n",
            "32/32 [==============================] - 0s 5ms/step - loss: 0.6935 - accuracy: 0.4908\n",
            "Epoch 74/200\n",
            "32/32 [==============================] - 0s 6ms/step - loss: 0.6936 - accuracy: 0.4882\n",
            "Epoch 75/200\n",
            "32/32 [==============================] - 0s 6ms/step - loss: 0.6936 - accuracy: 0.4855\n",
            "Epoch 76/200\n",
            "32/32 [==============================] - 0s 7ms/step - loss: 0.6936 - accuracy: 0.5025\n",
            "Epoch 77/200\n",
            "32/32 [==============================] - 0s 6ms/step - loss: 0.6939 - accuracy: 0.4837\n",
            "Epoch 78/200\n",
            "32/32 [==============================] - 0s 6ms/step - loss: 0.6936 - accuracy: 0.4892\n",
            "Epoch 79/200\n",
            "32/32 [==============================] - 0s 6ms/step - loss: 0.6935 - accuracy: 0.4942\n",
            "Epoch 80/200\n",
            "32/32 [==============================] - 0s 5ms/step - loss: 0.6938 - accuracy: 0.5000\n",
            "Epoch 81/200\n",
            "32/32 [==============================] - 0s 7ms/step - loss: 0.6939 - accuracy: 0.4777\n",
            "Epoch 82/200\n",
            "32/32 [==============================] - 0s 6ms/step - loss: 0.6935 - accuracy: 0.4897\n",
            "Epoch 83/200\n",
            "32/32 [==============================] - 0s 5ms/step - loss: 0.6937 - accuracy: 0.5120\n",
            "Epoch 84/200\n",
            "32/32 [==============================] - 0s 5ms/step - loss: 0.6938 - accuracy: 0.4992\n",
            "Epoch 85/200\n",
            "32/32 [==============================] - 0s 6ms/step - loss: 0.6935 - accuracy: 0.4879\n",
            "Epoch 86/200\n",
            "32/32 [==============================] - 0s 7ms/step - loss: 0.6935 - accuracy: 0.4908\n",
            "Epoch 87/200\n",
            "32/32 [==============================] - 0s 6ms/step - loss: 0.6937 - accuracy: 0.4851\n",
            "Epoch 88/200\n",
            "32/32 [==============================] - 0s 6ms/step - loss: 0.6938 - accuracy: 0.4855\n",
            "Epoch 89/200\n",
            "32/32 [==============================] - 0s 5ms/step - loss: 0.6940 - accuracy: 0.4876\n",
            "Epoch 90/200\n",
            "32/32 [==============================] - 0s 9ms/step - loss: 0.6938 - accuracy: 0.4933\n",
            "Epoch 91/200\n",
            "32/32 [==============================] - 0s 6ms/step - loss: 0.6938 - accuracy: 0.4914\n",
            "Epoch 92/200\n",
            "32/32 [==============================] - 0s 6ms/step - loss: 0.6938 - accuracy: 0.4960\n",
            "Epoch 93/200\n",
            "32/32 [==============================] - 0s 6ms/step - loss: 0.6936 - accuracy: 0.5020\n",
            "Epoch 94/200\n",
            "32/32 [==============================] - 0s 3ms/step - loss: 0.6941 - accuracy: 0.4755\n",
            "Epoch 95/200\n",
            "32/32 [==============================] - 0s 4ms/step - loss: 0.6935 - accuracy: 0.4944\n",
            "Epoch 96/200\n",
            "32/32 [==============================] - 0s 6ms/step - loss: 0.6940 - accuracy: 0.4721\n",
            "Epoch 97/200\n",
            "32/32 [==============================] - 0s 6ms/step - loss: 0.6937 - accuracy: 0.5003\n",
            "Epoch 98/200\n",
            "32/32 [==============================] - 0s 5ms/step - loss: 0.6936 - accuracy: 0.4934\n",
            "Epoch 99/200\n",
            "32/32 [==============================] - 0s 5ms/step - loss: 0.6940 - accuracy: 0.4995\n",
            "Epoch 100/200\n",
            "32/32 [==============================] - 0s 6ms/step - loss: 0.6939 - accuracy: 0.4661\n",
            "Epoch 101/200\n",
            "32/32 [==============================] - 0s 7ms/step - loss: 0.6933 - accuracy: 0.5084\n",
            "Epoch 102/200\n",
            "32/32 [==============================] - 0s 8ms/step - loss: 0.6942 - accuracy: 0.4869\n",
            "Epoch 103/200\n",
            "32/32 [==============================] - 0s 7ms/step - loss: 0.6937 - accuracy: 0.4824\n",
            "Epoch 104/200\n",
            "32/32 [==============================] - 0s 7ms/step - loss: 0.6936 - accuracy: 0.4983\n",
            "Epoch 105/200\n",
            "32/32 [==============================] - 0s 7ms/step - loss: 0.6934 - accuracy: 0.5040\n",
            "Epoch 106/200\n",
            "32/32 [==============================] - 0s 8ms/step - loss: 0.6936 - accuracy: 0.4882\n",
            "Epoch 107/200\n",
            "32/32 [==============================] - 0s 7ms/step - loss: 0.6933 - accuracy: 0.5040\n",
            "Epoch 108/200\n",
            "32/32 [==============================] - 0s 6ms/step - loss: 0.6938 - accuracy: 0.4940\n",
            "Epoch 109/200\n",
            "32/32 [==============================] - 0s 6ms/step - loss: 0.6936 - accuracy: 0.4835\n",
            "Epoch 110/200\n",
            "32/32 [==============================] - 0s 3ms/step - loss: 0.6939 - accuracy: 0.4747\n",
            "Epoch 111/200\n",
            "32/32 [==============================] - 0s 4ms/step - loss: 0.6937 - accuracy: 0.4882\n",
            "Epoch 112/200\n",
            "32/32 [==============================] - 0s 6ms/step - loss: 0.6942 - accuracy: 0.4759\n",
            "Epoch 113/200\n",
            "32/32 [==============================] - 0s 5ms/step - loss: 0.6940 - accuracy: 0.4798\n",
            "Epoch 114/200\n",
            "32/32 [==============================] - 0s 6ms/step - loss: 0.6938 - accuracy: 0.4909\n",
            "Epoch 115/200\n",
            "32/32 [==============================] - 0s 6ms/step - loss: 0.6936 - accuracy: 0.4781\n",
            "Epoch 116/200\n",
            "32/32 [==============================] - 0s 6ms/step - loss: 0.6937 - accuracy: 0.4997\n",
            "Epoch 117/200\n",
            "32/32 [==============================] - 0s 3ms/step - loss: 0.6939 - accuracy: 0.5080\n",
            "Epoch 118/200\n",
            "32/32 [==============================] - 0s 5ms/step - loss: 0.6935 - accuracy: 0.5009\n",
            "Epoch 119/200\n",
            "32/32 [==============================] - 0s 6ms/step - loss: 0.6941 - accuracy: 0.4918\n",
            "Epoch 120/200\n",
            "32/32 [==============================] - 0s 5ms/step - loss: 0.6936 - accuracy: 0.5040\n",
            "Epoch 121/200\n",
            "32/32 [==============================] - 0s 3ms/step - loss: 0.6938 - accuracy: 0.4781\n",
            "Epoch 122/200\n",
            "32/32 [==============================] - 0s 5ms/step - loss: 0.6938 - accuracy: 0.4892\n",
            "Epoch 123/200\n",
            "32/32 [==============================] - 0s 7ms/step - loss: 0.6940 - accuracy: 0.4876\n",
            "Epoch 124/200\n",
            "32/32 [==============================] - 0s 6ms/step - loss: 0.6938 - accuracy: 0.4893\n",
            "Epoch 125/200\n",
            "32/32 [==============================] - 0s 5ms/step - loss: 0.6937 - accuracy: 0.4763\n",
            "Epoch 126/200\n",
            "32/32 [==============================] - 0s 3ms/step - loss: 0.6936 - accuracy: 0.4915\n",
            "Epoch 127/200\n",
            "32/32 [==============================] - 0s 4ms/step - loss: 0.6938 - accuracy: 0.4837\n",
            "Epoch 128/200\n",
            "32/32 [==============================] - 0s 6ms/step - loss: 0.6937 - accuracy: 0.4933\n",
            "Epoch 129/200\n",
            "32/32 [==============================] - 0s 6ms/step - loss: 0.6935 - accuracy: 0.4881\n",
            "Epoch 130/200\n",
            "32/32 [==============================] - 0s 7ms/step - loss: 0.6933 - accuracy: 0.5055\n",
            "Epoch 131/200\n",
            "32/32 [==============================] - 0s 5ms/step - loss: 0.6939 - accuracy: 0.4898\n",
            "Epoch 132/200\n",
            "32/32 [==============================] - 0s 3ms/step - loss: 0.6935 - accuracy: 0.4888\n",
            "Epoch 133/200\n",
            "32/32 [==============================] - 0s 5ms/step - loss: 0.6937 - accuracy: 0.4900\n",
            "Epoch 134/200\n",
            "32/32 [==============================] - 0s 6ms/step - loss: 0.6940 - accuracy: 0.4737\n",
            "Epoch 135/200\n",
            "32/32 [==============================] - 0s 6ms/step - loss: 0.6937 - accuracy: 0.4871\n",
            "Epoch 136/200\n",
            "32/32 [==============================] - 0s 4ms/step - loss: 0.6939 - accuracy: 0.4928\n",
            "Epoch 137/200\n",
            "32/32 [==============================] - 0s 4ms/step - loss: 0.6938 - accuracy: 0.4972\n",
            "Epoch 138/200\n",
            "32/32 [==============================] - 0s 5ms/step - loss: 0.6937 - accuracy: 0.4964\n",
            "Epoch 139/200\n",
            "32/32 [==============================] - 0s 6ms/step - loss: 0.6937 - accuracy: 0.4829\n",
            "Epoch 140/200\n",
            "32/32 [==============================] - 0s 6ms/step - loss: 0.6936 - accuracy: 0.4828\n",
            "Epoch 141/200\n",
            "32/32 [==============================] - 0s 4ms/step - loss: 0.6937 - accuracy: 0.4881\n",
            "Epoch 142/200\n",
            "32/32 [==============================] - 0s 4ms/step - loss: 0.6937 - accuracy: 0.4877\n",
            "Epoch 143/200\n",
            "32/32 [==============================] - 0s 5ms/step - loss: 0.6937 - accuracy: 0.4982\n",
            "Epoch 144/200\n",
            "32/32 [==============================] - 0s 6ms/step - loss: 0.6937 - accuracy: 0.4746\n",
            "Epoch 145/200\n",
            "32/32 [==============================] - 0s 5ms/step - loss: 0.6936 - accuracy: 0.5040\n",
            "Epoch 146/200\n",
            "32/32 [==============================] - 0s 7ms/step - loss: 0.6940 - accuracy: 0.4794\n",
            "Epoch 147/200\n",
            "32/32 [==============================] - 0s 4ms/step - loss: 0.6937 - accuracy: 0.5020\n",
            "Epoch 148/200\n",
            "32/32 [==============================] - 0s 4ms/step - loss: 0.6939 - accuracy: 0.4876\n",
            "Epoch 149/200\n",
            "32/32 [==============================] - 0s 6ms/step - loss: 0.6937 - accuracy: 0.4822\n",
            "Epoch 150/200\n",
            "32/32 [==============================] - 0s 5ms/step - loss: 0.6937 - accuracy: 0.4862\n",
            "Epoch 151/200\n",
            "32/32 [==============================] - 0s 3ms/step - loss: 0.6935 - accuracy: 0.4991\n",
            "Epoch 152/200\n",
            "32/32 [==============================] - 0s 5ms/step - loss: 0.6936 - accuracy: 0.5000\n",
            "Epoch 153/200\n",
            "32/32 [==============================] - 0s 6ms/step - loss: 0.6936 - accuracy: 0.4980\n",
            "Epoch 154/200\n",
            "32/32 [==============================] - 0s 6ms/step - loss: 0.6933 - accuracy: 0.5020\n",
            "Epoch 155/200\n",
            "32/32 [==============================] - 0s 3ms/step - loss: 0.6939 - accuracy: 0.4969\n",
            "Epoch 156/200\n",
            "32/32 [==============================] - 0s 4ms/step - loss: 0.6939 - accuracy: 0.4703\n",
            "Epoch 157/200\n",
            "32/32 [==============================] - 0s 5ms/step - loss: 0.6940 - accuracy: 0.4933\n",
            "Epoch 158/200\n",
            "32/32 [==============================] - 0s 6ms/step - loss: 0.6936 - accuracy: 0.4970\n",
            "Epoch 159/200\n",
            "32/32 [==============================] - 0s 3ms/step - loss: 0.6937 - accuracy: 0.4880\n",
            "Epoch 160/200\n",
            "32/32 [==============================] - 0s 4ms/step - loss: 0.6938 - accuracy: 0.4940\n",
            "Epoch 161/200\n",
            "32/32 [==============================] - 0s 5ms/step - loss: 0.6936 - accuracy: 0.4860\n",
            "Epoch 162/200\n",
            "32/32 [==============================] - 0s 6ms/step - loss: 0.6939 - accuracy: 0.4951\n",
            "Epoch 163/200\n",
            "32/32 [==============================] - 0s 3ms/step - loss: 0.6940 - accuracy: 0.4943\n",
            "Epoch 164/200\n",
            "32/32 [==============================] - 0s 3ms/step - loss: 0.6937 - accuracy: 0.4900\n",
            "Epoch 165/200\n",
            "32/32 [==============================] - 0s 5ms/step - loss: 0.6936 - accuracy: 0.4999\n",
            "Epoch 166/200\n",
            "32/32 [==============================] - 0s 5ms/step - loss: 0.6936 - accuracy: 0.4775\n",
            "Epoch 167/200\n",
            "32/32 [==============================] - 0s 6ms/step - loss: 0.6940 - accuracy: 0.4940\n",
            "Epoch 168/200\n",
            "32/32 [==============================] - 0s 6ms/step - loss: 0.6936 - accuracy: 0.4865\n",
            "Epoch 169/200\n",
            "32/32 [==============================] - 0s 4ms/step - loss: 0.6935 - accuracy: 0.4938\n",
            "Epoch 170/200\n",
            "32/32 [==============================] - 0s 4ms/step - loss: 0.6934 - accuracy: 0.4922\n",
            "Epoch 171/200\n",
            "32/32 [==============================] - 0s 6ms/step - loss: 0.6936 - accuracy: 0.4948\n",
            "Epoch 172/200\n",
            "32/32 [==============================] - 0s 6ms/step - loss: 0.6937 - accuracy: 0.4719\n",
            "Epoch 173/200\n",
            "32/32 [==============================] - 0s 6ms/step - loss: 0.6937 - accuracy: 0.4936\n",
            "Epoch 174/200\n",
            "32/32 [==============================] - 0s 3ms/step - loss: 0.6937 - accuracy: 0.4996\n",
            "Epoch 175/200\n",
            "32/32 [==============================] - 0s 4ms/step - loss: 0.6940 - accuracy: 0.4819\n",
            "Epoch 176/200\n",
            "32/32 [==============================] - 0s 5ms/step - loss: 0.6937 - accuracy: 0.4920\n",
            "Epoch 177/200\n",
            "32/32 [==============================] - 0s 6ms/step - loss: 0.6938 - accuracy: 0.4657\n",
            "Epoch 178/200\n",
            "32/32 [==============================] - 0s 7ms/step - loss: 0.6936 - accuracy: 0.4906\n",
            "Epoch 179/200\n",
            "32/32 [==============================] - 0s 6ms/step - loss: 0.6938 - accuracy: 0.4878\n",
            "Epoch 180/200\n",
            "32/32 [==============================] - 0s 6ms/step - loss: 0.6936 - accuracy: 0.4847\n",
            "Epoch 181/200\n",
            "32/32 [==============================] - 0s 7ms/step - loss: 0.6937 - accuracy: 0.4611\n",
            "Epoch 182/200\n",
            "32/32 [==============================] - 0s 6ms/step - loss: 0.6937 - accuracy: 0.4700\n",
            "Epoch 183/200\n",
            "32/32 [==============================] - 0s 7ms/step - loss: 0.6938 - accuracy: 0.4882\n",
            "Epoch 184/200\n",
            "32/32 [==============================] - 0s 6ms/step - loss: 0.6939 - accuracy: 0.4754\n",
            "Epoch 185/200\n",
            "32/32 [==============================] - 0s 6ms/step - loss: 0.6939 - accuracy: 0.4875\n",
            "Epoch 186/200\n",
            "32/32 [==============================] - 0s 6ms/step - loss: 0.6942 - accuracy: 0.4634\n",
            "Epoch 187/200\n",
            "32/32 [==============================] - 0s 3ms/step - loss: 0.6937 - accuracy: 0.4896\n",
            "Epoch 188/200\n",
            "32/32 [==============================] - 0s 4ms/step - loss: 0.6940 - accuracy: 0.4682\n",
            "Epoch 189/200\n",
            "32/32 [==============================] - 0s 7ms/step - loss: 0.6936 - accuracy: 0.5039\n",
            "Epoch 190/200\n",
            "32/32 [==============================] - 0s 5ms/step - loss: 0.6938 - accuracy: 0.4960\n",
            "Epoch 191/200\n",
            "32/32 [==============================] - 0s 5ms/step - loss: 0.6937 - accuracy: 0.4906\n",
            "Epoch 192/200\n",
            "32/32 [==============================] - 0s 8ms/step - loss: 0.6935 - accuracy: 0.4916\n",
            "Epoch 193/200\n",
            "32/32 [==============================] - 0s 6ms/step - loss: 0.6933 - accuracy: 0.4985\n",
            "Epoch 194/200\n",
            "32/32 [==============================] - 0s 6ms/step - loss: 0.6936 - accuracy: 0.4898\n",
            "Epoch 195/200\n",
            "32/32 [==============================] - 0s 5ms/step - loss: 0.6936 - accuracy: 0.4780\n",
            "Epoch 196/200\n",
            "32/32 [==============================] - 0s 6ms/step - loss: 0.6939 - accuracy: 0.4839\n",
            "Epoch 197/200\n",
            "32/32 [==============================] - 0s 5ms/step - loss: 0.6937 - accuracy: 0.4920\n",
            "Epoch 198/200\n",
            "32/32 [==============================] - 0s 5ms/step - loss: 0.6936 - accuracy: 0.4956\n",
            "Epoch 199/200\n",
            "32/32 [==============================] - 0s 5ms/step - loss: 0.6932 - accuracy: 0.5103\n",
            "Epoch 200/200\n",
            "32/32 [==============================] - 0s 6ms/step - loss: 0.6936 - accuracy: 0.4940\n",
            "32/32 [==============================] - 0s 3ms/step - loss: 0.6935 - accuracy: 0.5000\n"
          ]
        },
        {
          "output_type": "execute_result",
          "data": {
            "text/plain": [
              "[0.693464994430542, 0.5]"
            ]
          },
          "metadata": {},
          "execution_count": 80
        }
      ]
    },
    {
      "cell_type": "markdown",
      "source": [
        "No improvement, let's add another layer"
      ],
      "metadata": {
        "id": "U-FSeIgWmXWT"
      }
    },
    {
      "cell_type": "code",
      "source": [
        "# set random seed \n",
        "tf.random.set_seed(42)\n",
        "\n",
        "# 1. Create a model \n",
        "model_2 = tf.keras.Sequential([\n",
        "    tf.keras.layers.Dense(1), \n",
        "    tf.keras.layers.Dense(1)\n",
        "])\n",
        "\n",
        "# 2. Compile the model \n",
        "model_2.compile(loss = tf.keras.losses.BinaryCrossentropy(), \n",
        "                optimizer = tf.keras.optimizers.SGD(), \n",
        "                metrics = ['accuracy'])\n",
        "\n",
        "# 3. Fit the model \n",
        "model_2.fit(tf.expand_dims(X, axis = -1), y, epochs = 100) "
      ],
      "metadata": {
        "colab": {
          "base_uri": "https://localhost:8080/"
        },
        "id": "UAGuCp-rmlqk",
        "outputId": "15f2e6f8-c952-409e-b74c-e0fe01967315"
      },
      "execution_count": 81,
      "outputs": [
        {
          "output_type": "stream",
          "name": "stdout",
          "text": [
            "Epoch 1/100\n",
            "32/32 [==============================] - 1s 7ms/step - loss: 1.4570 - accuracy: 0.4897\n",
            "Epoch 2/100\n",
            "32/32 [==============================] - 0s 8ms/step - loss: 0.7292 - accuracy: 0.4994\n",
            "Epoch 3/100\n",
            "32/32 [==============================] - 0s 8ms/step - loss: 0.7172 - accuracy: 0.4960\n",
            "Epoch 4/100\n",
            "32/32 [==============================] - 0s 8ms/step - loss: 0.7091 - accuracy: 0.4989\n",
            "Epoch 5/100\n",
            "32/32 [==============================] - 0s 7ms/step - loss: 0.7046 - accuracy: 0.5019\n",
            "Epoch 6/100\n",
            "32/32 [==============================] - 0s 9ms/step - loss: 0.7017 - accuracy: 0.4997\n",
            "Epoch 7/100\n",
            "32/32 [==============================] - 0s 8ms/step - loss: 0.7005 - accuracy: 0.4985\n",
            "Epoch 8/100\n",
            "32/32 [==============================] - 0s 7ms/step - loss: 0.6992 - accuracy: 0.4979\n",
            "Epoch 9/100\n",
            "32/32 [==============================] - 0s 6ms/step - loss: 0.6977 - accuracy: 0.4979\n",
            "Epoch 10/100\n",
            "32/32 [==============================] - 0s 7ms/step - loss: 0.6963 - accuracy: 0.5020\n",
            "Epoch 11/100\n",
            "32/32 [==============================] - 0s 7ms/step - loss: 0.6964 - accuracy: 0.5002\n",
            "Epoch 12/100\n",
            "32/32 [==============================] - 0s 7ms/step - loss: 0.6963 - accuracy: 0.4977\n",
            "Epoch 13/100\n",
            "32/32 [==============================] - 0s 7ms/step - loss: 0.6953 - accuracy: 0.5000\n",
            "Epoch 14/100\n",
            "32/32 [==============================] - 0s 7ms/step - loss: 0.6959 - accuracy: 0.4962\n",
            "Epoch 15/100\n",
            "32/32 [==============================] - 0s 7ms/step - loss: 0.6950 - accuracy: 0.4981\n",
            "Epoch 16/100\n",
            "32/32 [==============================] - 0s 5ms/step - loss: 0.6951 - accuracy: 0.4981\n",
            "Epoch 17/100\n",
            "32/32 [==============================] - 0s 4ms/step - loss: 0.6946 - accuracy: 0.4966\n",
            "Epoch 18/100\n",
            "32/32 [==============================] - 0s 4ms/step - loss: 0.6946 - accuracy: 0.4960\n",
            "Epoch 19/100\n",
            "32/32 [==============================] - 0s 4ms/step - loss: 0.6942 - accuracy: 0.4991\n",
            "Epoch 20/100\n",
            "32/32 [==============================] - 0s 4ms/step - loss: 0.6943 - accuracy: 0.4976\n",
            "Epoch 21/100\n",
            "32/32 [==============================] - 0s 4ms/step - loss: 0.6940 - accuracy: 0.4978\n",
            "Epoch 22/100\n",
            "32/32 [==============================] - 0s 4ms/step - loss: 0.6945 - accuracy: 0.4909\n",
            "Epoch 23/100\n",
            "32/32 [==============================] - 0s 4ms/step - loss: 0.6941 - accuracy: 0.4952\n",
            "Epoch 24/100\n",
            "32/32 [==============================] - 0s 4ms/step - loss: 0.6941 - accuracy: 0.4956\n",
            "Epoch 25/100\n",
            "32/32 [==============================] - 0s 4ms/step - loss: 0.6939 - accuracy: 0.4958\n",
            "Epoch 26/100\n",
            "32/32 [==============================] - 0s 4ms/step - loss: 0.6940 - accuracy: 0.4940\n",
            "Epoch 27/100\n",
            "32/32 [==============================] - 0s 4ms/step - loss: 0.6933 - accuracy: 0.5088\n",
            "Epoch 28/100\n",
            "32/32 [==============================] - 0s 4ms/step - loss: 0.6942 - accuracy: 0.4852\n",
            "Epoch 29/100\n",
            "32/32 [==============================] - 0s 4ms/step - loss: 0.6939 - accuracy: 0.4911\n",
            "Epoch 30/100\n",
            "32/32 [==============================] - 0s 4ms/step - loss: 0.6937 - accuracy: 0.4951\n",
            "Epoch 31/100\n",
            "32/32 [==============================] - 0s 4ms/step - loss: 0.6938 - accuracy: 0.4966\n",
            "Epoch 32/100\n",
            "32/32 [==============================] - 0s 4ms/step - loss: 0.6938 - accuracy: 0.4943\n",
            "Epoch 33/100\n",
            "32/32 [==============================] - 0s 3ms/step - loss: 0.6938 - accuracy: 0.4911\n",
            "Epoch 34/100\n",
            "32/32 [==============================] - 0s 4ms/step - loss: 0.6943 - accuracy: 0.4851\n",
            "Epoch 35/100\n",
            "32/32 [==============================] - 0s 4ms/step - loss: 0.6938 - accuracy: 0.5008\n",
            "Epoch 36/100\n",
            "32/32 [==============================] - 0s 3ms/step - loss: 0.6941 - accuracy: 0.4803\n",
            "Epoch 37/100\n",
            "32/32 [==============================] - 0s 4ms/step - loss: 0.6936 - accuracy: 0.4902\n",
            "Epoch 38/100\n",
            "32/32 [==============================] - 0s 4ms/step - loss: 0.6937 - accuracy: 0.4866\n",
            "Epoch 39/100\n",
            "32/32 [==============================] - 0s 4ms/step - loss: 0.6936 - accuracy: 0.4879\n",
            "Epoch 40/100\n",
            "32/32 [==============================] - 0s 4ms/step - loss: 0.6945 - accuracy: 0.4670\n",
            "Epoch 41/100\n",
            "32/32 [==============================] - 0s 4ms/step - loss: 0.6937 - accuracy: 0.4920\n",
            "Epoch 42/100\n",
            "32/32 [==============================] - 0s 4ms/step - loss: 0.6938 - accuracy: 0.4938\n",
            "Epoch 43/100\n",
            "32/32 [==============================] - 0s 4ms/step - loss: 0.6938 - accuracy: 0.4851\n",
            "Epoch 44/100\n",
            "32/32 [==============================] - 0s 4ms/step - loss: 0.6931 - accuracy: 0.5125\n",
            "Epoch 45/100\n",
            "32/32 [==============================] - 0s 4ms/step - loss: 0.6941 - accuracy: 0.4827\n",
            "Epoch 46/100\n",
            "32/32 [==============================] - 0s 4ms/step - loss: 0.6939 - accuracy: 0.4805\n",
            "Epoch 47/100\n",
            "32/32 [==============================] - 0s 4ms/step - loss: 0.6934 - accuracy: 0.5058\n",
            "Epoch 48/100\n",
            "32/32 [==============================] - 0s 4ms/step - loss: 0.6937 - accuracy: 0.4964\n",
            "Epoch 49/100\n",
            "32/32 [==============================] - 0s 4ms/step - loss: 0.6938 - accuracy: 0.4831\n",
            "Epoch 50/100\n",
            "32/32 [==============================] - 0s 4ms/step - loss: 0.6937 - accuracy: 0.4968\n",
            "Epoch 51/100\n",
            "32/32 [==============================] - 0s 4ms/step - loss: 0.6938 - accuracy: 0.4884\n",
            "Epoch 52/100\n",
            "32/32 [==============================] - 0s 3ms/step - loss: 0.6937 - accuracy: 0.4927\n",
            "Epoch 53/100\n",
            "32/32 [==============================] - 0s 4ms/step - loss: 0.6937 - accuracy: 0.4791\n",
            "Epoch 54/100\n",
            "32/32 [==============================] - 0s 4ms/step - loss: 0.6938 - accuracy: 0.4870\n",
            "Epoch 55/100\n",
            "32/32 [==============================] - 0s 4ms/step - loss: 0.6938 - accuracy: 0.5018\n",
            "Epoch 56/100\n",
            "32/32 [==============================] - 0s 4ms/step - loss: 0.6937 - accuracy: 0.4927\n",
            "Epoch 57/100\n",
            "32/32 [==============================] - 0s 4ms/step - loss: 0.6939 - accuracy: 0.4878\n",
            "Epoch 58/100\n",
            "32/32 [==============================] - 0s 4ms/step - loss: 0.6939 - accuracy: 0.4824\n",
            "Epoch 59/100\n",
            "32/32 [==============================] - 0s 4ms/step - loss: 0.6934 - accuracy: 0.5142\n",
            "Epoch 60/100\n",
            "32/32 [==============================] - 0s 4ms/step - loss: 0.6938 - accuracy: 0.4955\n",
            "Epoch 61/100\n",
            "32/32 [==============================] - 0s 4ms/step - loss: 0.6941 - accuracy: 0.4961\n",
            "Epoch 62/100\n",
            "32/32 [==============================] - 0s 4ms/step - loss: 0.6936 - accuracy: 0.4983\n",
            "Epoch 63/100\n",
            "32/32 [==============================] - 0s 4ms/step - loss: 0.6939 - accuracy: 0.4891\n",
            "Epoch 64/100\n",
            "32/32 [==============================] - 0s 4ms/step - loss: 0.6939 - accuracy: 0.4842\n",
            "Epoch 65/100\n",
            "32/32 [==============================] - 0s 4ms/step - loss: 0.6938 - accuracy: 0.4924\n",
            "Epoch 66/100\n",
            "32/32 [==============================] - 0s 3ms/step - loss: 0.6937 - accuracy: 0.4888\n",
            "Epoch 67/100\n",
            "32/32 [==============================] - 0s 4ms/step - loss: 0.6943 - accuracy: 0.4926\n",
            "Epoch 68/100\n",
            "32/32 [==============================] - 0s 4ms/step - loss: 0.6935 - accuracy: 0.4939\n",
            "Epoch 69/100\n",
            "32/32 [==============================] - 0s 4ms/step - loss: 0.6938 - accuracy: 0.4994\n",
            "Epoch 70/100\n",
            "32/32 [==============================] - 0s 4ms/step - loss: 0.6939 - accuracy: 0.4844\n",
            "Epoch 71/100\n",
            "32/32 [==============================] - 0s 4ms/step - loss: 0.6935 - accuracy: 0.4983\n",
            "Epoch 72/100\n",
            "32/32 [==============================] - 0s 5ms/step - loss: 0.6939 - accuracy: 0.4815\n",
            "Epoch 73/100\n",
            "32/32 [==============================] - 0s 8ms/step - loss: 0.6936 - accuracy: 0.4875\n",
            "Epoch 74/100\n",
            "32/32 [==============================] - 0s 4ms/step - loss: 0.6936 - accuracy: 0.4897\n",
            "Epoch 75/100\n",
            "32/32 [==============================] - 0s 4ms/step - loss: 0.6937 - accuracy: 0.4878\n",
            "Epoch 76/100\n",
            "32/32 [==============================] - 0s 7ms/step - loss: 0.6937 - accuracy: 0.5040\n",
            "Epoch 77/100\n",
            "32/32 [==============================] - 0s 7ms/step - loss: 0.6940 - accuracy: 0.4853\n",
            "Epoch 78/100\n",
            "32/32 [==============================] - 0s 4ms/step - loss: 0.6937 - accuracy: 0.4886\n",
            "Epoch 79/100\n",
            "32/32 [==============================] - 0s 6ms/step - loss: 0.6936 - accuracy: 0.4920\n",
            "Epoch 80/100\n",
            "32/32 [==============================] - 0s 9ms/step - loss: 0.6940 - accuracy: 0.5000\n",
            "Epoch 81/100\n",
            "32/32 [==============================] - 0s 6ms/step - loss: 0.6940 - accuracy: 0.4800\n",
            "Epoch 82/100\n",
            "32/32 [==============================] - 0s 6ms/step - loss: 0.6936 - accuracy: 0.4897\n",
            "Epoch 83/100\n",
            "32/32 [==============================] - 0s 4ms/step - loss: 0.6938 - accuracy: 0.5120\n",
            "Epoch 84/100\n",
            "32/32 [==============================] - 0s 6ms/step - loss: 0.6940 - accuracy: 0.5000\n",
            "Epoch 85/100\n",
            "32/32 [==============================] - 0s 7ms/step - loss: 0.6936 - accuracy: 0.4764\n",
            "Epoch 86/100\n",
            "32/32 [==============================] - 0s 6ms/step - loss: 0.6936 - accuracy: 0.4860\n",
            "Epoch 87/100\n",
            "32/32 [==============================] - 0s 6ms/step - loss: 0.6939 - accuracy: 0.4851\n",
            "Epoch 88/100\n",
            "32/32 [==============================] - 0s 6ms/step - loss: 0.6940 - accuracy: 0.4848\n",
            "Epoch 89/100\n",
            "32/32 [==============================] - 0s 7ms/step - loss: 0.6942 - accuracy: 0.4900\n",
            "Epoch 90/100\n",
            "32/32 [==============================] - 0s 8ms/step - loss: 0.6938 - accuracy: 0.4901\n",
            "Epoch 91/100\n",
            "32/32 [==============================] - 0s 4ms/step - loss: 0.6940 - accuracy: 0.4863\n",
            "Epoch 92/100\n",
            "32/32 [==============================] - 0s 4ms/step - loss: 0.6938 - accuracy: 0.4915\n",
            "Epoch 93/100\n",
            "32/32 [==============================] - 0s 7ms/step - loss: 0.6937 - accuracy: 0.5020\n",
            "Epoch 94/100\n",
            "32/32 [==============================] - 0s 6ms/step - loss: 0.6943 - accuracy: 0.4761\n",
            "Epoch 95/100\n",
            "32/32 [==============================] - 0s 7ms/step - loss: 0.6936 - accuracy: 0.4891\n",
            "Epoch 96/100\n",
            "32/32 [==============================] - 0s 5ms/step - loss: 0.6941 - accuracy: 0.4694\n",
            "Epoch 97/100\n",
            "32/32 [==============================] - 0s 8ms/step - loss: 0.6938 - accuracy: 0.4980\n",
            "Epoch 98/100\n",
            "32/32 [==============================] - 0s 7ms/step - loss: 0.6937 - accuracy: 0.4880\n",
            "Epoch 99/100\n",
            "32/32 [==============================] - 0s 7ms/step - loss: 0.6942 - accuracy: 0.4980\n",
            "Epoch 100/100\n",
            "32/32 [==============================] - 0s 8ms/step - loss: 0.6940 - accuracy: 0.4740\n"
          ]
        },
        {
          "output_type": "execute_result",
          "data": {
            "text/plain": [
              "<keras.callbacks.History at 0x7fe68dfe35b0>"
            ]
          },
          "metadata": {},
          "execution_count": 81
        }
      ]
    },
    {
      "cell_type": "code",
      "source": [
        "# Evaluate the model \n",
        "model_2.evaluate(X, y)"
      ],
      "metadata": {
        "colab": {
          "base_uri": "https://localhost:8080/"
        },
        "id": "QnFDxquQm2li",
        "outputId": "4c5ee910-06f6-4793-c94f-79372c85324b"
      },
      "execution_count": 82,
      "outputs": [
        {
          "output_type": "stream",
          "name": "stdout",
          "text": [
            "32/32 [==============================] - 0s 4ms/step - loss: 0.6933 - accuracy: 0.5000\n"
          ]
        },
        {
          "output_type": "execute_result",
          "data": {
            "text/plain": [
              "[0.6933176517486572, 0.5]"
            ]
          },
          "metadata": {},
          "execution_count": 82
        }
      ]
    },
    {
      "cell_type": "markdown",
      "source": [
        "### Improving our model"
      ],
      "metadata": {
        "id": "Sbrb0hLmnB2N"
      }
    },
    {
      "cell_type": "code",
      "source": [
        "# set random seed \n",
        "tf.random.set_seed(42)\n",
        "\n",
        "# 1. Create a model \n",
        "model_3 = tf.keras.Sequential([\n",
        "    tf.keras.layers.Dense(100), # add 100 dense neurons\n",
        "    tf.keras.layers.Dense(10), # add another layer with 10 neurons\n",
        "    tf.keras.layers.Dense(1)\n",
        "])\n",
        "\n",
        "# 2. Compile the model \n",
        "model_3.compile(loss = tf.keras.losses.BinaryCrossentropy(), \n",
        "                optimizer = tf.keras.optimizers.Adam(), \n",
        "                metrics = ['accuracy'])\n",
        "\n",
        "# 3. Fit the model \n",
        "model_3.fit(tf.expand_dims(X, axis = -1), y, epochs = 100) "
      ],
      "metadata": {
        "colab": {
          "base_uri": "https://localhost:8080/"
        },
        "id": "7pRGfpSWoXDL",
        "outputId": "ce3a5c30-94f6-4c38-b3f0-7c5643ea5893"
      },
      "execution_count": null,
      "outputs": [
        {
          "output_type": "stream",
          "name": "stdout",
          "text": [
            "Epoch 1/100\n",
            "32/32 [==============================] - 1s 8ms/step - loss: 2.3571 - accuracy: 0.4968\n",
            "Epoch 2/100\n",
            "32/32 [==============================] - 0s 8ms/step - loss: 0.7097 - accuracy: 0.4915\n",
            "Epoch 3/100\n",
            "32/32 [==============================] - 0s 4ms/step - loss: 0.6941 - accuracy: 0.5044\n",
            "Epoch 4/100\n",
            "32/32 [==============================] - 0s 8ms/step - loss: 0.6936 - accuracy: 0.4928\n",
            "Epoch 5/100\n",
            "32/32 [==============================] - 0s 4ms/step - loss: 0.6943 - accuracy: 0.4865\n",
            "Epoch 6/100\n",
            "32/32 [==============================] - 0s 6ms/step - loss: 0.6937 - accuracy: 0.5131\n",
            "Epoch 7/100\n",
            "32/32 [==============================] - 0s 9ms/step - loss: 0.6955 - accuracy: 0.4978\n",
            "Epoch 8/100\n",
            "32/32 [==============================] - 0s 11ms/step - loss: 0.6940 - accuracy: 0.4926\n",
            "Epoch 9/100\n",
            "32/32 [==============================] - 0s 12ms/step - loss: 0.6938 - accuracy: 0.5023\n",
            "Epoch 10/100\n",
            "32/32 [==============================] - 0s 9ms/step - loss: 0.6932 - accuracy: 0.5090\n",
            "Epoch 11/100\n",
            "32/32 [==============================] - 0s 5ms/step - loss: 0.6956 - accuracy: 0.4848\n",
            "Epoch 12/100\n",
            "32/32 [==============================] - 0s 8ms/step - loss: 0.6951 - accuracy: 0.4886\n",
            "Epoch 13/100\n",
            "32/32 [==============================] - 0s 7ms/step - loss: 0.6940 - accuracy: 0.4927\n",
            "Epoch 14/100\n",
            "32/32 [==============================] - 0s 4ms/step - loss: 0.6949 - accuracy: 0.4935\n",
            "Epoch 15/100\n",
            "32/32 [==============================] - 0s 7ms/step - loss: 0.6937 - accuracy: 0.5011\n",
            "Epoch 16/100\n",
            "32/32 [==============================] - 0s 8ms/step - loss: 0.6938 - accuracy: 0.4959\n",
            "Epoch 17/100\n",
            "32/32 [==============================] - 0s 6ms/step - loss: 0.6944 - accuracy: 0.4867\n",
            "Epoch 18/100\n",
            "32/32 [==============================] - 0s 8ms/step - loss: 0.6951 - accuracy: 0.4980\n",
            "Epoch 19/100\n",
            "32/32 [==============================] - 0s 7ms/step - loss: 0.6958 - accuracy: 0.5069\n",
            "Epoch 20/100\n",
            "32/32 [==============================] - 0s 9ms/step - loss: 0.6947 - accuracy: 0.4878\n",
            "Epoch 21/100\n",
            "32/32 [==============================] - 0s 7ms/step - loss: 0.6960 - accuracy: 0.4797\n",
            "Epoch 22/100\n",
            "32/32 [==============================] - 0s 8ms/step - loss: 0.6955 - accuracy: 0.5000\n",
            "Epoch 23/100\n",
            "32/32 [==============================] - 0s 6ms/step - loss: 0.6939 - accuracy: 0.4972\n",
            "Epoch 24/100\n",
            "32/32 [==============================] - 0s 6ms/step - loss: 0.6959 - accuracy: 0.5027\n",
            "Epoch 25/100\n",
            "32/32 [==============================] - 0s 7ms/step - loss: 0.6982 - accuracy: 0.4636\n",
            "Epoch 26/100\n",
            "32/32 [==============================] - 0s 4ms/step - loss: 0.6946 - accuracy: 0.4851\n",
            "Epoch 27/100\n",
            "32/32 [==============================] - 0s 9ms/step - loss: 0.6937 - accuracy: 0.5260\n",
            "Epoch 28/100\n",
            "32/32 [==============================] - 0s 5ms/step - loss: 0.6976 - accuracy: 0.4772\n",
            "Epoch 29/100\n",
            "32/32 [==============================] - 0s 6ms/step - loss: 0.6944 - accuracy: 0.4996\n",
            "Epoch 30/100\n",
            "32/32 [==============================] - 0s 6ms/step - loss: 0.6959 - accuracy: 0.4904\n",
            "Epoch 31/100\n",
            "32/32 [==============================] - 0s 4ms/step - loss: 0.6948 - accuracy: 0.4963\n",
            "Epoch 32/100\n",
            "32/32 [==============================] - 0s 8ms/step - loss: 0.6958 - accuracy: 0.4950\n",
            "Epoch 33/100\n",
            "32/32 [==============================] - 0s 4ms/step - loss: 0.6959 - accuracy: 0.4945\n",
            "Epoch 34/100\n",
            "32/32 [==============================] - 0s 10ms/step - loss: 0.6971 - accuracy: 0.4730\n",
            "Epoch 35/100\n",
            "32/32 [==============================] - 0s 8ms/step - loss: 0.6959 - accuracy: 0.4763\n",
            "Epoch 36/100\n",
            "32/32 [==============================] - 0s 9ms/step - loss: 0.6943 - accuracy: 0.5035\n",
            "Epoch 37/100\n",
            "32/32 [==============================] - 0s 6ms/step - loss: 0.6946 - accuracy: 0.4864\n",
            "Epoch 38/100\n",
            "32/32 [==============================] - 0s 9ms/step - loss: 0.6962 - accuracy: 0.4933\n",
            "Epoch 39/100\n",
            "32/32 [==============================] - 0s 8ms/step - loss: 0.6945 - accuracy: 0.4899\n",
            "Epoch 40/100\n",
            "32/32 [==============================] - 0s 8ms/step - loss: 0.6939 - accuracy: 0.5049\n",
            "Epoch 41/100\n",
            "32/32 [==============================] - 0s 6ms/step - loss: 0.6960 - accuracy: 0.4931\n",
            "Epoch 42/100\n",
            "32/32 [==============================] - 0s 8ms/step - loss: 0.6966 - accuracy: 0.4580\n",
            "Epoch 43/100\n",
            "32/32 [==============================] - 0s 8ms/step - loss: 0.6949 - accuracy: 0.4942\n",
            "Epoch 44/100\n"
          ]
        }
      ]
    },
    {
      "cell_type": "code",
      "source": [
        "model_3.summary()"
      ],
      "metadata": {
        "id": "3iFgCmBJo0re"
      },
      "execution_count": null,
      "outputs": []
    },
    {
      "cell_type": "markdown",
      "source": [
        "## Let's visualize our model"
      ],
      "metadata": {
        "id": "rVd-ZuRSpCL1"
      }
    },
    {
      "cell_type": "code",
      "source": [
        "import numpy as np \n",
        "def plot_decision_boundary(model, X, y): \n",
        "  \"\"\"\n",
        "  plots the decision boundary created by a model predictiong on X.\n",
        "  \"\"\"\n",
        "  # define the axis boundaries of the plot and create a meshgrid \n",
        "  x_min, x_max = X[:, 0].min() - 0.1, X[:, 0].max() + 0.1\n",
        "  y_min, y_max = X[:, 1].min() - 0.1, X[:, 1].max() + 0.1 \n",
        "  xx, yy = np.meshgrid(np.linspace(x_min, x_max, 100), \n",
        "                       np.linspace(y_min, y_max, 100))\n",
        "  \n",
        "  # create X value (we are going to make predictions on these)\n",
        "  x_in = np.c_[xx.ravel(), yy.ravel()] # stack 2D arrays together\n",
        "\n",
        "  # make predictions\n",
        "  y_pred = model.predict(x_in)\n",
        "\n",
        "  # check for multi-class \n",
        "  if len(y_pred[0]) > 1:\n",
        "    print('doing multiclass classification')\n",
        "    # we have to reshape our prediction tto get them ready for plotting \n",
        "    y_pred = np.argmax(y_pred, axis = 1).reshape(xx.shape)\n",
        "  else: \n",
        "    print('doing binary classification')\n",
        "    y_pred = np.round(y_pred).reshape(xx.shape)\n",
        "\n",
        "  # plot the decision boundaryv\n",
        "  plt.contourf(xx, yy, y_pred, cmap = plt.cm.RdYlBu, alpha = 0.7)\n",
        "  plt.scatter(X[:, 0], X[:, 1], c = y, s = 40, cmap = plt.cm.RdYlBu)\n",
        "  plt.xlim(xx.min(), xx.max())\n",
        "  plt.ylim(yy.min(), yy.max()) "
      ],
      "metadata": {
        "id": "G30t2DXnpmsb"
      },
      "execution_count": null,
      "outputs": []
    },
    {
      "cell_type": "code",
      "source": [
        "# check out the prediction our model is making \n",
        "plot_decision_boundary(model_3, X = X, y = y)"
      ],
      "metadata": {
        "id": "U4VDboN2tOxG"
      },
      "execution_count": null,
      "outputs": []
    },
    {
      "cell_type": "code",
      "source": [],
      "metadata": {
        "id": "9dPEHYceq3Bn"
      },
      "execution_count": null,
      "outputs": []
    },
    {
      "cell_type": "markdown",
      "source": [
        "## The Missing Piece: Non - linearity"
      ],
      "metadata": {
        "id": "IfeBTrNZq9uu"
      }
    },
    {
      "cell_type": "markdown",
      "source": [
        "## Let's build our first Neural network with non - linear activation function"
      ],
      "metadata": {
        "id": "XYwSHaXK4THC"
      }
    },
    {
      "cell_type": "code",
      "source": [
        "# set random seed \n",
        "tf.random.set_seed(42)\n",
        "\n",
        "# 1. Create a model \n",
        "model_4 = tf.keras.Sequential([\n",
        "    tf.keras.layers.Dense(1, activation = tf.keras.activations.relu), # non linear activation function\n",
        "    \n",
        "])\n",
        "\n",
        "# 2. Compile the model \n",
        "model_4.compile(loss = tf.keras.losses.BinaryCrossentropy(), \n",
        "                optimizer = tf.keras.optimizers.Adam(lr = 0.001), \n",
        "                metrics = ['accuracy'])\n",
        "\n",
        "# 3. Fit the model \n",
        "model_4.fit(tf.expand_dims(X, axis = -1), y, epochs = 100) "
      ],
      "metadata": {
        "id": "PdRtbPxw5c4-"
      },
      "execution_count": null,
      "outputs": []
    },
    {
      "cell_type": "markdown",
      "source": [
        "### Let's build another non linear model"
      ],
      "metadata": {
        "id": "e7vfMLLT-g7D"
      }
    },
    {
      "cell_type": "code",
      "source": [
        "# set random seed \n",
        "tf.random.set_seed(42)\n",
        "\n",
        "# 1. Create a model \n",
        "model_5 = tf.keras.Sequential([\n",
        "    tf.keras.layers.Dense(4, activation = 'relu'), \n",
        "    tf.keras.layers.Dense(4, activation = 'relu'), \n",
        "    tf.keras.layers.Dense(1, activation = 'sigmoid')\n",
        "])\n",
        "\n",
        "# 2. Compile the model \n",
        "model_5.compile(loss = tf.keras.losses.BinaryCrossentropy(), \n",
        "                optimizer = tf.keras.optimizers.Adam(lr = 0.001), \n",
        "                metrics = ['accuracy'])\n",
        "\n",
        "# 3. Fit the model \n",
        "model_5.fit(X, y, epochs = 100)\n",
        "# model_5.fit(tf.expand_dims(X, axis = 1), y, epochs = 100) \n",
        "# model.fit(tf.expand_dims(X, axis=-1),y,epochs=10)"
      ],
      "metadata": {
        "id": "oX9dNGdH5zug"
      },
      "execution_count": null,
      "outputs": []
    },
    {
      "cell_type": "code",
      "source": [
        "plot_decision_boundary(model_5, X, y)"
      ],
      "metadata": {
        "id": "TZ0Mh6xmFtPC"
      },
      "execution_count": null,
      "outputs": []
    },
    {
      "cell_type": "markdown",
      "source": [
        "**Note:** The combination of **linear (straight lines)** and **non-linear (non-straight lines)** functions is one of the key fundamentals of neural networks."
      ],
      "metadata": {
        "id": "BpAD5fEM-ben"
      }
    },
    {
      "cell_type": "markdown",
      "source": [
        "## Split the data into train and test set"
      ],
      "metadata": {
        "id": "7DELyHmjF5mm"
      }
    },
    {
      "cell_type": "code",
      "source": [
        "X_train, y_train = X[:800], y[:800]\n",
        "X_test, y_test = X[800:], y[800:]"
      ],
      "metadata": {
        "id": "k7xfN6wlH6ok"
      },
      "execution_count": null,
      "outputs": []
    },
    {
      "cell_type": "code",
      "source": [
        "# set random seed \n",
        "tf.random.set_seed(42)\n",
        "\n",
        "# 1. Create a model \n",
        "model_6 = tf.keras.Sequential([\n",
        "    tf.keras.layers.Dense(4, activation = 'relu'), \n",
        "    tf.keras.layers.Dense(4, activation = 'relu'), \n",
        "    tf.keras.layers.Dense(1, activation = 'sigmoid')\n",
        "])\n",
        "\n",
        "# 2. Compile the model \n",
        "model_6.compile(loss = 'binary_crossentropy', \n",
        "                optimizer = tf.keras.optimizers.Adam(lr = 0.01), # increase the learning rate\n",
        "                metrics = ['accuracy'])\n",
        "\n",
        "# 3. Fit the model \n",
        "history = model_6.fit(X_train, y_train, epochs = 25)\n"
      ],
      "metadata": {
        "id": "qo8YZWVQIKHX"
      },
      "execution_count": null,
      "outputs": []
    },
    {
      "cell_type": "code",
      "source": [
        "# evaluate the model on the test set\n",
        "model_6.evaluate(X_test, y_test)"
      ],
      "metadata": {
        "id": "zTDe9f0FJJXO"
      },
      "execution_count": null,
      "outputs": []
    },
    {
      "cell_type": "markdown",
      "source": [
        "- Got a 100% accuracy"
      ],
      "metadata": {
        "id": "I2VdfAtdB_4L"
      }
    },
    {
      "cell_type": "code",
      "source": [
        "# plot the decision boundaries for the training and tensorflow\n",
        "plt.figure(figsize = (12, 6))\n",
        "plt.subplot(1, 2, 1)\n",
        "plt.title('Train')\n",
        "plot_decision_boundary(model_6, X_train, y_train)\n",
        "plt.subplot(1, 2, 2)\n",
        "plt.title('Test')\n",
        "plot_decision_boundary(model_6, X_test, y_test)\n",
        "plt.show()"
      ],
      "metadata": {
        "id": "uVt9d7MiJgTv"
      },
      "execution_count": null,
      "outputs": []
    },
    {
      "cell_type": "markdown",
      "source": [
        "### Plot the loss (or training) curve"
      ],
      "metadata": {
        "id": "9VsXQShgKNto"
      }
    },
    {
      "cell_type": "code",
      "source": [
        "history.history"
      ],
      "metadata": {
        "id": "PY_xfT3rLXqz"
      },
      "execution_count": null,
      "outputs": []
    },
    {
      "cell_type": "code",
      "source": [
        "# let's convert it to a dataframe \n",
        "pd.DataFrame(history.history)"
      ],
      "metadata": {
        "id": "Pm05EXvJLfHS"
      },
      "execution_count": null,
      "outputs": []
    },
    {
      "cell_type": "code",
      "source": [
        "# plot \n",
        "pd.DataFrame(history.history).plot()\n",
        "plt.title('model_6 loass and accuracy curve')"
      ],
      "metadata": {
        "id": "htHb3HvELqvY"
      },
      "execution_count": null,
      "outputs": []
    },
    {
      "cell_type": "markdown",
      "source": [
        "- **Note:** For many problems, the loss function going down means the model is improving (the predictions it's making are getting closer to the ground truth labels)."
      ],
      "metadata": {
        "id": "MC36dwzEL1cA"
      }
    },
    {
      "cell_type": "markdown",
      "source": [
        "## Finding the best learning rate \n",
        "To find the ideal learning rate (the learning rate where the loss decreases the most during training. \n",
        "  - A learning rate **callback** - you can think of a callback as an extra piece of functionality, you can add to your model while it's training\n",
        "  - Anothe model (we could use the same one as above, but we are practicing building model here)\n",
        "  - A modified loss curve plot."
      ],
      "metadata": {
        "id": "12XZnTtFMIBm"
      }
    },
    {
      "cell_type": "code",
      "source": [
        "# set random seed \n",
        "tf.random.set_seed(42)\n",
        "\n",
        "# 1. Create a model (same as model_6)\n",
        "model_7 = tf.keras.Sequential([\n",
        "    tf.keras.layers.Dense(4, activation = 'relu'), \n",
        "    tf.keras.layers.Dense(4, activation = 'relu'), \n",
        "    tf.keras.layers.Dense(1, activation = 'sigmoid')\n",
        "])\n",
        "\n",
        "# 2. Compile the model \n",
        "model_7.compile(loss = 'binary_crossentropy', \n",
        "                optimizer = tf.keras.optimizers.Adam(lr = 0.01), \n",
        "                metrics = ['accuracy']) \n",
        "\n",
        "# 3. create a learning rate callback \n",
        "lr_scheduler = tf.keras.callbacks.LearningRateScheduler(lambda epoch: 1e-4 * 10**(epoch/20))\n",
        "\n",
        "# 3. Fit the model (pass lr_scheduler callback)\n",
        "history_7 = model_7.fit(X_train, y_train, epochs = 100, \n",
        "                      callbacks = [lr_scheduler])\n"
      ],
      "metadata": {
        "id": "pKocxGAkOwYW"
      },
      "execution_count": null,
      "outputs": []
    },
    {
      "cell_type": "code",
      "source": [
        "# check out the history \n",
        "pd.DataFrame(history_7.history).plot(figsize = (10, 7), xlabel = 'epochs')"
      ],
      "metadata": {
        "id": "8c0McQjj_G19"
      },
      "execution_count": null,
      "outputs": []
    },
    {
      "cell_type": "code",
      "source": [
        "# plot the learning rate vs the loss \n",
        "lrs = 1e-4 * 10**(tf.range(100)/20) \n",
        "lrs"
      ],
      "metadata": {
        "id": "4sZaDsZL_NCj",
        "colab": {
          "base_uri": "https://localhost:8080/"
        },
        "outputId": "8188698d-6e91-4e47-dce5-071edda16966"
      },
      "execution_count": 99,
      "outputs": [
        {
          "data": {
            "text/plain": [
              "<tf.Tensor: shape=(100,), dtype=float64, numpy=\n",
              "array([1.00000000e-04, 1.12201845e-04, 1.25892541e-04, 1.41253754e-04,\n",
              "       1.58489319e-04, 1.77827941e-04, 1.99526231e-04, 2.23872114e-04,\n",
              "       2.51188643e-04, 2.81838293e-04, 3.16227766e-04, 3.54813389e-04,\n",
              "       3.98107171e-04, 4.46683592e-04, 5.01187234e-04, 5.62341325e-04,\n",
              "       6.30957344e-04, 7.07945784e-04, 7.94328235e-04, 8.91250938e-04,\n",
              "       1.00000000e-03, 1.12201845e-03, 1.25892541e-03, 1.41253754e-03,\n",
              "       1.58489319e-03, 1.77827941e-03, 1.99526231e-03, 2.23872114e-03,\n",
              "       2.51188643e-03, 2.81838293e-03, 3.16227766e-03, 3.54813389e-03,\n",
              "       3.98107171e-03, 4.46683592e-03, 5.01187234e-03, 5.62341325e-03,\n",
              "       6.30957344e-03, 7.07945784e-03, 7.94328235e-03, 8.91250938e-03,\n",
              "       1.00000000e-02, 1.12201845e-02, 1.25892541e-02, 1.41253754e-02,\n",
              "       1.58489319e-02, 1.77827941e-02, 1.99526231e-02, 2.23872114e-02,\n",
              "       2.51188643e-02, 2.81838293e-02, 3.16227766e-02, 3.54813389e-02,\n",
              "       3.98107171e-02, 4.46683592e-02, 5.01187234e-02, 5.62341325e-02,\n",
              "       6.30957344e-02, 7.07945784e-02, 7.94328235e-02, 8.91250938e-02,\n",
              "       1.00000000e-01, 1.12201845e-01, 1.25892541e-01, 1.41253754e-01,\n",
              "       1.58489319e-01, 1.77827941e-01, 1.99526231e-01, 2.23872114e-01,\n",
              "       2.51188643e-01, 2.81838293e-01, 3.16227766e-01, 3.54813389e-01,\n",
              "       3.98107171e-01, 4.46683592e-01, 5.01187234e-01, 5.62341325e-01,\n",
              "       6.30957344e-01, 7.07945784e-01, 7.94328235e-01, 8.91250938e-01,\n",
              "       1.00000000e+00, 1.12201845e+00, 1.25892541e+00, 1.41253754e+00,\n",
              "       1.58489319e+00, 1.77827941e+00, 1.99526231e+00, 2.23872114e+00,\n",
              "       2.51188643e+00, 2.81838293e+00, 3.16227766e+00, 3.54813389e+00,\n",
              "       3.98107171e+00, 4.46683592e+00, 5.01187234e+00, 5.62341325e+00,\n",
              "       6.30957344e+00, 7.07945784e+00, 7.94328235e+00, 8.91250938e+00])>"
            ]
          },
          "execution_count": 99,
          "metadata": {},
          "output_type": "execute_result"
        }
      ]
    },
    {
      "cell_type": "markdown",
      "source": [
        "- these are the learning rate our model tried out"
      ],
      "metadata": {
        "id": "NcbiHj6VF9qd"
      }
    },
    {
      "cell_type": "code",
      "source": [
        "# plot the learning rate vs the loss \n",
        "lrs = 1e-4 * 10**(tf.range(100)/20)\n",
        "plt.figure(figsize = (10, 7))\n",
        "plt.semilogx(lrs, history_7.history['loss'])\n",
        "plt.xlabel('Learning rate')\n",
        "plt.ylabel('Loss')\n",
        "plt.title('Learning rate vs loss')\n",
        "plt.show()"
      ],
      "metadata": {
        "colab": {
          "base_uri": "https://localhost:8080/",
          "height": 462
        },
        "id": "BunkCTYh_ZaR",
        "outputId": "8311065e-fbea-49b7-cc99-400113a20027"
      },
      "execution_count": 100,
      "outputs": [
        {
          "data": {
            "image/png": "[encoded data removed]",
            "text/plain": [
              "<Figure size 720x504 with 1 Axes>"
            ]
          },
          "metadata": {},
          "output_type": "display_data"
        }
      ]
    },
    {
      "cell_type": "markdown",
      "source": [
        "- The ideal learning rate here is somewhere around 0.01 to 0.02"
      ],
      "metadata": {
        "id": "z11INB3W_98a"
      }
    },
    {
      "cell_type": "markdown",
      "source": [
        "# Fit a new model with the ideal learning rate \n"
      ],
      "metadata": {
        "id": "mpow_GTHAmNj"
      }
    },
    {
      "cell_type": "code",
      "source": [
        "# set random seed \n",
        "tf.random.set_seed(42)\n",
        "\n",
        "# 1. create a model \n",
        "model_8 = tf.keras.Sequential([\n",
        "    tf.keras.layers.Dense(4, activation = 'relu'), \n",
        "    tf.keras.layers.Dense(4, activation = 'relu'), \n",
        "    tf.keras.layers.Dense(1, activation = 'sigmoid')\n",
        "])\n",
        "\n",
        "# 2. compile the model \n",
        "model_8.compile(loss = 'binary_crossentropy', \n",
        "                optimizer = tf.keras.optimizers.Adam(lr = 0.02), \n",
        "                metrics = ['accuracy'])\n",
        "\n",
        "# 3. fit the model \n",
        "history_8 = model_8.fit(X_train, y_train, epochs = 20 )"
      ],
      "metadata": {
        "id": "jTy4UROyBPY4",
        "colab": {
          "base_uri": "https://localhost:8080/"
        },
        "outputId": "b7bf543f-f855-449e-e079-6c7243042e72"
      },
      "execution_count": 101,
      "outputs": [
        {
          "metadata": {
            "tags": null
          },
          "name": "stdout",
          "output_type": "stream",
          "text": [
            "Epoch 1/20\n"
          ]
        },
        {
          "metadata": {
            "tags": null
          },
          "name": "stderr",
          "output_type": "stream",
          "text": [
            "/usr/local/lib/python3.8/dist-packages/keras/optimizers/optimizer_v2/adam.py:110: UserWarning: The `lr` argument is deprecated, use `learning_rate` instead.\n",
            "  super(Adam, self).__init__(name, **kwargs)\n"
          ]
        },
        {
          "metadata": {
            "tags": null
          },
          "name": "stdout",
          "output_type": "stream",
          "text": [
            "25/25 [==============================] - 0s 3ms/step - loss: 0.6837 - accuracy: 0.5600\n",
            "Epoch 2/20\n",
            "25/25 [==============================] - 0s 3ms/step - loss: 0.6744 - accuracy: 0.5750\n",
            "Epoch 3/20\n",
            "25/25 [==============================] - 0s 3ms/step - loss: 0.6626 - accuracy: 0.5875\n",
            "Epoch 4/20\n",
            "25/25 [==============================] - 0s 3ms/step - loss: 0.6332 - accuracy: 0.6388\n",
            "Epoch 5/20\n",
            "25/25 [==============================] - 0s 3ms/step - loss: 0.5830 - accuracy: 0.7563\n",
            "Epoch 6/20\n",
            "25/25 [==============================] - 0s 3ms/step - loss: 0.4907 - accuracy: 0.8313\n",
            "Epoch 7/20\n",
            "25/25 [==============================] - 0s 3ms/step - loss: 0.4251 - accuracy: 0.8450\n",
            "Epoch 8/20\n",
            "25/25 [==============================] - 0s 3ms/step - loss: 0.3596 - accuracy: 0.8875\n",
            "Epoch 9/20\n",
            "25/25 [==============================] - 0s 2ms/step - loss: 0.3152 - accuracy: 0.9100\n",
            "Epoch 10/20\n",
            "25/25 [==============================] - 0s 3ms/step - loss: 0.2512 - accuracy: 0.9500\n",
            "Epoch 11/20\n",
            "25/25 [==============================] - 0s 3ms/step - loss: 0.2152 - accuracy: 0.9500\n",
            "Epoch 12/20\n",
            "25/25 [==============================] - 0s 3ms/step - loss: 0.1721 - accuracy: 0.9750\n",
            "Epoch 13/20\n",
            "25/25 [==============================] - 0s 3ms/step - loss: 0.1443 - accuracy: 0.9837\n",
            "Epoch 14/20\n",
            "25/25 [==============================] - 0s 3ms/step - loss: 0.1232 - accuracy: 0.9862\n",
            "Epoch 15/20\n",
            "25/25 [==============================] - 0s 3ms/step - loss: 0.1085 - accuracy: 0.9850\n",
            "Epoch 16/20\n",
            "25/25 [==============================] - 0s 3ms/step - loss: 0.0940 - accuracy: 0.9937\n",
            "Epoch 17/20\n",
            "25/25 [==============================] - 0s 3ms/step - loss: 0.0827 - accuracy: 0.9962\n",
            "Epoch 18/20\n",
            "25/25 [==============================] - 0s 3ms/step - loss: 0.0798 - accuracy: 0.9937\n",
            "Epoch 19/20\n",
            "25/25 [==============================] - 0s 3ms/step - loss: 0.0845 - accuracy: 0.9875\n",
            "Epoch 20/20\n",
            "25/25 [==============================] - 0s 2ms/step - loss: 0.0790 - accuracy: 0.9887\n"
          ]
        }
      ]
    },
    {
      "cell_type": "markdown",
      "source": [
        "- model_8 has performed better by adjusting the learning rate of the optimizer"
      ],
      "metadata": {
        "id": "N_T1Uo3nKaLl"
      }
    },
    {
      "cell_type": "code",
      "source": [
        "# evaluate model_8 on the test data \n",
        "model_8.evaluate(X_test, y_test)"
      ],
      "metadata": {
        "colab": {
          "base_uri": "https://localhost:8080/"
        },
        "id": "j-AQjLl0Ky0Q",
        "outputId": "47631a1b-4a24-4f4c-9f40-6aa6580e3640"
      },
      "execution_count": 102,
      "outputs": [
        {
          "metadata": {
            "tags": null
          },
          "name": "stdout",
          "output_type": "stream",
          "text": [
            "7/7 [==============================] - 0s 3ms/step - loss: 0.0574 - accuracy: 0.9900\n"
          ]
        },
        {
          "data": {
            "text/plain": [
              "[0.057401832193136215, 0.9900000095367432]"
            ]
          },
          "execution_count": 102,
          "metadata": {},
          "output_type": "execute_result"
        }
      ]
    },
    {
      "cell_type": "markdown",
      "source": [
        "- but it didn't generalized well on unseen data as the previous model"
      ],
      "metadata": {
        "id": "ZbLSadtZK82U"
      }
    },
    {
      "cell_type": "code",
      "source": [
        "# plot the decision boundaries for the training and test data\n",
        "plt.figure(figsize = (12, 6))\n",
        "plt.subplot(1, 2, 1)\n",
        "plt.title('Train')\n",
        "plot_decision_boundary(model_8, X_train, y_train)\n",
        "plt.subplot(1, 2, 2)\n",
        "plt.title('Test')\n",
        "plot_decision_boundary(model_8, X_test, y_test)\n",
        "plt.show()"
      ],
      "metadata": {
        "colab": {
          "base_uri": "https://localhost:8080/",
          "height": 415
        },
        "id": "PbtZRn_LLLYA",
        "outputId": "015659e9-bf23-479c-97a0-98557253fa54"
      },
      "execution_count": 103,
      "outputs": [
        {
          "metadata": {
            "tags": null
          },
          "name": "stdout",
          "output_type": "stream",
          "text": [
            "313/313 [==============================] - 0s 1ms/step\n",
            "doing binary classification\n",
            "313/313 [==============================] - 0s 1ms/step\n",
            "doing binary classification\n"
          ]
        },
        {
          "data": {
            "image/png": "[encoded data removed]",
            "text/plain": [
              "<Figure size 864x432 with 2 Axes>"
            ]
          },
          "metadata": {},
          "output_type": "display_data"
        }
      ]
    },
    {
      "cell_type": "markdown",
      "source": [
        "## More classification evaluation methods \n",
        "* Accuracy \n",
        "* Precision \n",
        "* Recall \n",
        "* F1-score \n",
        "* Confusion matrix \n",
        "* Classification report (sklearn)"
      ],
      "metadata": {
        "id": "qPiRDycfLYWJ"
      }
    },
    {
      "cell_type": "code",
      "source": [
        "# check the accuracy of our model \n",
        "loss, accuracy = model_8.evaluate(X_test, y_test)\n",
        "print(f'Loss: {loss}')\n",
        "print(f'Accuracy: {accuracy*100}')"
      ],
      "metadata": {
        "colab": {
          "base_uri": "https://localhost:8080/"
        },
        "id": "MtS1kRRUNed1",
        "outputId": "97011c6f-9830-4720-b955-f4f07ad2049d"
      },
      "execution_count": 104,
      "outputs": [
        {
          "metadata": {
            "tags": null
          },
          "name": "stdout",
          "output_type": "stream",
          "text": [
            "7/7 [==============================] - 0s 3ms/step - loss: 0.0574 - accuracy: 0.9900\n",
            "Loss: 0.057401832193136215\n",
            "Accuracy: 99.00000095367432\n"
          ]
        }
      ]
    },
    {
      "cell_type": "markdown",
      "source": [
        "# Confusion matrix"
      ],
      "metadata": {
        "id": "gnxOO-0XOOyU"
      }
    },
    {
      "cell_type": "code",
      "source": [
        "from sklearn.metrics import confusion_matrix \n",
        "\n",
        "# make predictions \n",
        "y_pred = model_8.predict(X_test)\n",
        "\n",
        "# create confusion matrix \n",
        "confusion_matrix(y_test, y_pred)"
      ],
      "metadata": {
        "colab": {
          "base_uri": "https://localhost:8080/",
          "height": 415
        },
        "id": "4o6jnKqIObiM",
        "outputId": "4655f2c4-7125-456b-b500-c7b6c6bd2400"
      },
      "execution_count": 105,
      "outputs": [
        {
          "metadata": {
            "tags": null
          },
          "name": "stdout",
          "output_type": "stream",
          "text": [
            "7/7 [==============================] - 0s 2ms/step\n"
          ]
        },
        {
          "ename": "ValueError",
          "evalue": "ignored",
          "output_type": "error",
          "traceback": [
            "\u001b[0;31m---------------------------------------------------------------------------\u001b[0m",
            "\u001b[0;31mValueError\u001b[0m                                Traceback (most recent call last)",
            "\u001b[0;32m<ipython-input-105-6fe847917fc6>\u001b[0m in \u001b[0;36m<module>\u001b[0;34m\u001b[0m\n\u001b[1;32m      5\u001b[0m \u001b[0;34m\u001b[0m\u001b[0m\n\u001b[1;32m      6\u001b[0m \u001b[0;31m# create confusion matrix\u001b[0m\u001b[0;34m\u001b[0m\u001b[0;34m\u001b[0m\u001b[0;34m\u001b[0m\u001b[0m\n\u001b[0;32m----> 7\u001b[0;31m \u001b[0mconfusion_matrix\u001b[0m\u001b[0;34m(\u001b[0m\u001b[0my_test\u001b[0m\u001b[0;34m,\u001b[0m \u001b[0my_pred\u001b[0m\u001b[0;34m)\u001b[0m\u001b[0;34m\u001b[0m\u001b[0;34m\u001b[0m\u001b[0m\n\u001b[0m",
            "\u001b[0;32m/usr/local/lib/python3.8/dist-packages/sklearn/metrics/_classification.py\u001b[0m in \u001b[0;36mconfusion_matrix\u001b[0;34m(y_true, y_pred, labels, sample_weight, normalize)\u001b[0m\n\u001b[1;32m    305\u001b[0m     \u001b[0;34m(\u001b[0m\u001b[0;36m0\u001b[0m\u001b[0;34m,\u001b[0m \u001b[0;36m2\u001b[0m\u001b[0;34m,\u001b[0m \u001b[0;36m1\u001b[0m\u001b[0;34m,\u001b[0m \u001b[0;36m1\u001b[0m\u001b[0;34m)\u001b[0m\u001b[0;34m\u001b[0m\u001b[0;34m\u001b[0m\u001b[0m\n\u001b[1;32m    306\u001b[0m     \"\"\"\n\u001b[0;32m--> 307\u001b[0;31m     \u001b[0my_type\u001b[0m\u001b[0;34m,\u001b[0m \u001b[0my_true\u001b[0m\u001b[0;34m,\u001b[0m \u001b[0my_pred\u001b[0m \u001b[0;34m=\u001b[0m \u001b[0m_check_targets\u001b[0m\u001b[0;34m(\u001b[0m\u001b[0my_true\u001b[0m\u001b[0;34m,\u001b[0m \u001b[0my_pred\u001b[0m\u001b[0;34m)\u001b[0m\u001b[0;34m\u001b[0m\u001b[0;34m\u001b[0m\u001b[0m\n\u001b[0m\u001b[1;32m    308\u001b[0m     \u001b[0;32mif\u001b[0m \u001b[0my_type\u001b[0m \u001b[0;32mnot\u001b[0m \u001b[0;32min\u001b[0m \u001b[0;34m(\u001b[0m\u001b[0;34m\"binary\"\u001b[0m\u001b[0;34m,\u001b[0m \u001b[0;34m\"multiclass\"\u001b[0m\u001b[0;34m)\u001b[0m\u001b[0;34m:\u001b[0m\u001b[0;34m\u001b[0m\u001b[0;34m\u001b[0m\u001b[0m\n\u001b[1;32m    309\u001b[0m         \u001b[0;32mraise\u001b[0m \u001b[0mValueError\u001b[0m\u001b[0;34m(\u001b[0m\u001b[0;34m\"%s is not supported\"\u001b[0m \u001b[0;34m%\u001b[0m \u001b[0my_type\u001b[0m\u001b[0;34m)\u001b[0m\u001b[0;34m\u001b[0m\u001b[0;34m\u001b[0m\u001b[0m\n",
            "\u001b[0;32m/usr/local/lib/python3.8/dist-packages/sklearn/metrics/_classification.py\u001b[0m in \u001b[0;36m_check_targets\u001b[0;34m(y_true, y_pred)\u001b[0m\n\u001b[1;32m     91\u001b[0m \u001b[0;34m\u001b[0m\u001b[0m\n\u001b[1;32m     92\u001b[0m     \u001b[0;32mif\u001b[0m \u001b[0mlen\u001b[0m\u001b[0;34m(\u001b[0m\u001b[0my_type\u001b[0m\u001b[0;34m)\u001b[0m \u001b[0;34m>\u001b[0m \u001b[0;36m1\u001b[0m\u001b[0;34m:\u001b[0m\u001b[0;34m\u001b[0m\u001b[0;34m\u001b[0m\u001b[0m\n\u001b[0;32m---> 93\u001b[0;31m         raise ValueError(\n\u001b[0m\u001b[1;32m     94\u001b[0m             \"Classification metrics can't handle a mix of {0} and {1} targets\".format(\n\u001b[1;32m     95\u001b[0m                 \u001b[0mtype_true\u001b[0m\u001b[0;34m,\u001b[0m \u001b[0mtype_pred\u001b[0m\u001b[0;34m\u001b[0m\u001b[0;34m\u001b[0m\u001b[0m\n",
            "\u001b[0;31mValueError\u001b[0m: Classification metrics can't handle a mix of binary and continuous targets"
          ]
        }
      ]
    },
    {
      "cell_type": "code",
      "source": [
        "# let's check what y_test and y_preds looks like \n",
        "y_test[:10]"
      ],
      "metadata": {
        "colab": {
          "base_uri": "https://localhost:8080/"
        },
        "id": "sG6Iync5OxTq",
        "outputId": "a66ac411-6341-47d8-d80d-38cb9a2aa5db"
      },
      "execution_count": 106,
      "outputs": [
        {
          "output_type": "execute_result",
          "data": {
            "text/plain": [
              "array([1, 1, 1, 1, 0, 0, 1, 0, 1, 0])"
            ]
          },
          "metadata": {},
          "execution_count": 106
        }
      ]
    },
    {
      "cell_type": "markdown",
      "source": [
        "- binary form"
      ],
      "metadata": {
        "id": "_e2zT6ktO75K"
      }
    },
    {
      "cell_type": "code",
      "source": [
        "y_pred[:10]"
      ],
      "metadata": {
        "colab": {
          "base_uri": "https://localhost:8080/"
        },
        "id": "0mqq4xKuO-pf",
        "outputId": "27cb86ee-3694-41b3-8343-a0daa7f928ac"
      },
      "execution_count": 107,
      "outputs": [
        {
          "output_type": "execute_result",
          "data": {
            "text/plain": [
              "array([[9.8526543e-01],\n",
              "       [9.9923790e-01],\n",
              "       [9.9032354e-01],\n",
              "       [9.9706942e-01],\n",
              "       [3.9623031e-01],\n",
              "       [1.8126901e-02],\n",
              "       [9.6829069e-01],\n",
              "       [1.9746734e-02],\n",
              "       [9.9967170e-01],\n",
              "       [5.6459213e-04]], dtype=float32)"
            ]
          },
          "metadata": {},
          "execution_count": 107
        }
      ]
    },
    {
      "cell_type": "markdown",
      "source": [
        "- the prediction array has come out in **prediction probabibilites** form, the standard output from the sigmoid or softmax activation functions"
      ],
      "metadata": {
        "id": "74D_nyBFPBKi"
      }
    },
    {
      "cell_type": "code",
      "source": [
        "# convert prediction probabilities to binary format \n",
        "tf.round(y_pred)[:10]"
      ],
      "metadata": {
        "colab": {
          "base_uri": "https://localhost:8080/"
        },
        "id": "G2OiqcZJPRiG",
        "outputId": "e2b56523-f368-4690-95be-bc87e6991883"
      },
      "execution_count": 108,
      "outputs": [
        {
          "output_type": "execute_result",
          "data": {
            "text/plain": [
              "<tf.Tensor: shape=(10, 1), dtype=float32, numpy=\n",
              "array([[1.],\n",
              "       [1.],\n",
              "       [1.],\n",
              "       [1.],\n",
              "       [0.],\n",
              "       [0.],\n",
              "       [1.],\n",
              "       [0.],\n",
              "       [1.],\n",
              "       [0.]], dtype=float32)>"
            ]
          },
          "metadata": {},
          "execution_count": 108
        }
      ]
    },
    {
      "cell_type": "code",
      "source": [
        "# make predictions \n",
        "y_pred = model_8.predict(X_test)\n",
        "\n",
        "# create confusion matrix \n",
        "confusion_matrix(y_test, tf.round(y_pred))"
      ],
      "metadata": {
        "colab": {
          "base_uri": "https://localhost:8080/"
        },
        "id": "8YuLLcVqPk4f",
        "outputId": "537efcd3-ef18-43df-fc64-31d7fcf9a241"
      },
      "execution_count": 109,
      "outputs": [
        {
          "output_type": "stream",
          "name": "stdout",
          "text": [
            "7/7 [==============================] - 0s 3ms/step\n"
          ]
        },
        {
          "output_type": "execute_result",
          "data": {
            "text/plain": [
              "array([[99,  2],\n",
              "       [ 0, 99]])"
            ]
          },
          "metadata": {},
          "execution_count": 109
        }
      ]
    },
    {
      "cell_type": "markdown",
      "source": [
        "## Prettify our confusion matrix"
      ],
      "metadata": {
        "id": "t_BKMGInQQem"
      }
    },
    {
      "cell_type": "code",
      "source": [
        "import seaborn as sns \n",
        "plt.figure(figsize = (8, 6))\n",
        "sns.heatmap(confusion_matrix(y_test, tf.round(y_pred)), annot = True, fmt = 'd', \n",
        "            linewidth = 3) \n",
        "plt.xlabel('Predicted label')\n",
        "plt.ylabel('True label') \n",
        "plt.title('Confusion Matrix')\n",
        "plt.show()"
      ],
      "metadata": {
        "colab": {
          "base_uri": "https://localhost:8080/",
          "height": 404
        },
        "id": "5lO1cAqMP7at",
        "outputId": "06377f99-6c15-48ed-8a46-62a53e102b29"
      },
      "execution_count": 110,
      "outputs": [
        {
          "output_type": "display_data",
          "data": {
            "text/plain": [
              "<Figure size 576x432 with 2 Axes>"
            ],
            "image/png": "[encoded data removed]"
          },
          "metadata": {
            "needs_background": "light"
          }
        }
      ]
    },
    {
      "cell_type": "code",
      "source": [
        "# Note: The following confusion matrix code is a remix of Scikit-Learn's \n",
        "# plot_confusion_matrix function - https://scikit-learn.org/stable/modules/generated/sklearn.metrics.plot_confusion_matrix.html\n",
        "# and Made with ML's introductory notebook - https://github.com/GokuMohandas/MadeWithML/blob/main/notebooks/08_Neural_Networks.ipynb \n",
        "import itertools\n",
        "\n",
        "figsize = (10, 10)\n",
        "\n",
        "# Create the confusion matrix\n",
        "cm = confusion_matrix(y_test, tf.round(y_pred))\n",
        "cm_norm = cm.astype(\"float\") / cm.sum(axis=1)[:, np.newaxis] # normalize it\n",
        "n_classes = cm.shape[0]\n",
        "\n",
        "# Let's prettify it\n",
        "fig, ax = plt.subplots(figsize=figsize)\n",
        "# Create a matrix plot\n",
        "cax = ax.matshow(cm, cmap=plt.cm.Blues) # https://matplotlib.org/3.2.0/api/\n",
        "fig.colorbar(cax)\n",
        "\n",
        "# Create classes\n",
        "classes = False\n",
        "\n",
        "if classes:\n",
        "  labels = classes\n",
        "else:\n",
        "  labels = np.arange(cm.shape[0])\n",
        "\n",
        "# Label the axes\n",
        "ax.set(title=\"Confusion Matrix\",\n",
        "       xlabel=\"Predicted label\",\n",
        "       ylabel=\"True label\",\n",
        "       xticks=np.arange(n_classes),\n",
        "       yticks=np.arange(n_classes),\n",
        "       xticklabels=labels,\n",
        "       yticklabels=labels)\n",
        "\n",
        "# Set x-axis labels to bottom\n",
        "ax.xaxis.set_label_position(\"bottom\")\n",
        "ax.xaxis.tick_bottom()\n",
        "\n",
        "# Adjust label size\n",
        "ax.xaxis.label.set_size(20)\n",
        "ax.yaxis.label.set_size(20)\n",
        "ax.title.set_size(20)\n",
        "\n",
        "# Set threshold for different colors\n",
        "threshold = (cm.max() + cm.min()) / 2.\n",
        "\n",
        "# Plot the text on each cell\n",
        "for i, j in itertools.product(range(cm.shape[0]), range(cm.shape[1])):\n",
        "  plt.text(j, i, f\"{cm[i, j]} ({cm_norm[i, j]*100:.1f}%)\",\n",
        "           horizontalalignment=\"center\",\n",
        "           color=\"white\" if cm[i, j] > threshold else \"black\",\n",
        "           size=15)"
      ],
      "metadata": {
        "colab": {
          "base_uri": "https://localhost:8080/",
          "height": 580
        },
        "id": "sGxu6OzLQCaO",
        "outputId": "287598ef-cb3d-4dd9-9990-970cee39b05c"
      },
      "execution_count": 111,
      "outputs": [
        {
          "output_type": "display_data",
          "data": {
            "text/plain": [
              "<Figure size 720x720 with 2 Axes>"
            ],
            "image/png": "[encoded data removed]"
          },
          "metadata": {
            "needs_background": "light"
          }
        }
      ]
    },
    {
      "cell_type": "markdown",
      "source": [
        "## Working with a Larger example (multi class classification) \n",
        "\n",
        "When you have more than 2 classes as an option, it's known as a multi-class classification. \n",
        "\n",
        "To practice multi-class classification, we are going to build a neural network to classify images of different items of clothing"
      ],
      "metadata": {
        "id": "TuXgkqqbRDxn"
      }
    },
    {
      "cell_type": "code",
      "source": [
        "import tensorflow as tf \n",
        "from tensorflow.keras.datasets import fashion_mnist \n",
        "\n",
        "# the dataset has already been sorted into training and test sets for us \n",
        "(train_data, train_labels), (test_data, test_labels) = fashion_mnist.load_data()"
      ],
      "metadata": {
        "colab": {
          "base_uri": "https://localhost:8080/"
        },
        "id": "TS1oZzyZR91g",
        "outputId": "b9da750a-7522-40ac-d74e-fb6a22474b61"
      },
      "execution_count": 112,
      "outputs": [
        {
          "output_type": "stream",
          "name": "stdout",
          "text": [
            "Downloading data from https://storage.googleapis.com/tensorflow/tf-keras-datasets/train-labels-idx1-ubyte.gz\n",
            "29515/29515 [==============================] - 0s 0us/step\n",
            "Downloading data from https://storage.googleapis.com/tensorflow/tf-keras-datasets/train-images-idx3-ubyte.gz\n",
            "26421880/26421880 [==============================] - 0s 0us/step\n",
            "Downloading data from https://storage.googleapis.com/tensorflow/tf-keras-datasets/t10k-labels-idx1-ubyte.gz\n",
            "5148/5148 [==============================] - 0s 0us/step\n",
            "Downloading data from https://storage.googleapis.com/tensorflow/tf-keras-datasets/t10k-images-idx3-ubyte.gz\n",
            "4422102/4422102 [==============================] - 0s 0us/step\n"
          ]
        }
      ]
    },
    {
      "cell_type": "code",
      "source": [
        "# show the first training example \n",
        "print(f'Training sample:\\n{train_data[0]}\\n')\n",
        "print(f'Training label:\\n{train_labels[0]}\\n')"
      ],
      "metadata": {
        "colab": {
          "base_uri": "https://localhost:8080/"
        },
        "id": "WTPODa4fToWV",
        "outputId": "58bc922c-8ecf-46f5-8b83-e20421b672ef"
      },
      "execution_count": 113,
      "outputs": [
        {
          "output_type": "stream",
          "name": "stdout",
          "text": [
            "Training sample:\n",
            "[[  0   0   0   0   0   0   0   0   0   0   0   0   0   0   0   0   0   0\n",
            "    0   0   0   0   0   0   0   0   0   0]\n",
            " [  0   0   0   0   0   0   0   0   0   0   0   0   0   0   0   0   0   0\n",
            "    0   0   0   0   0   0   0   0   0   0]\n",
            " [  0   0   0   0   0   0   0   0   0   0   0   0   0   0   0   0   0   0\n",
            "    0   0   0   0   0   0   0   0   0   0]\n",
            " [  0   0   0   0   0   0   0   0   0   0   0   0   1   0   0  13  73   0\n",
            "    0   1   4   0   0   0   0   1   1   0]\n",
            " [  0   0   0   0   0   0   0   0   0   0   0   0   3   0  36 136 127  62\n",
            "   54   0   0   0   1   3   4   0   0   3]\n",
            " [  0   0   0   0   0   0   0   0   0   0   0   0   6   0 102 204 176 134\n",
            "  144 123  23   0   0   0   0  12  10   0]\n",
            " [  0   0   0   0   0   0   0   0   0   0   0   0   0   0 155 236 207 178\n",
            "  107 156 161 109  64  23  77 130  72  15]\n",
            " [  0   0   0   0   0   0   0   0   0   0   0   1   0  69 207 223 218 216\n",
            "  216 163 127 121 122 146 141  88 172  66]\n",
            " [  0   0   0   0   0   0   0   0   0   1   1   1   0 200 232 232 233 229\n",
            "  223 223 215 213 164 127 123 196 229   0]\n",
            " [  0   0   0   0   0   0   0   0   0   0   0   0   0 183 225 216 223 228\n",
            "  235 227 224 222 224 221 223 245 173   0]\n",
            " [  0   0   0   0   0   0   0   0   0   0   0   0   0 193 228 218 213 198\n",
            "  180 212 210 211 213 223 220 243 202   0]\n",
            " [  0   0   0   0   0   0   0   0   0   1   3   0  12 219 220 212 218 192\n",
            "  169 227 208 218 224 212 226 197 209  52]\n",
            " [  0   0   0   0   0   0   0   0   0   0   6   0  99 244 222 220 218 203\n",
            "  198 221 215 213 222 220 245 119 167  56]\n",
            " [  0   0   0   0   0   0   0   0   0   4   0   0  55 236 228 230 228 240\n",
            "  232 213 218 223 234 217 217 209  92   0]\n",
            " [  0   0   1   4   6   7   2   0   0   0   0   0 237 226 217 223 222 219\n",
            "  222 221 216 223 229 215 218 255  77   0]\n",
            " [  0   3   0   0   0   0   0   0   0  62 145 204 228 207 213 221 218 208\n",
            "  211 218 224 223 219 215 224 244 159   0]\n",
            " [  0   0   0   0  18  44  82 107 189 228 220 222 217 226 200 205 211 230\n",
            "  224 234 176 188 250 248 233 238 215   0]\n",
            " [  0  57 187 208 224 221 224 208 204 214 208 209 200 159 245 193 206 223\n",
            "  255 255 221 234 221 211 220 232 246   0]\n",
            " [  3 202 228 224 221 211 211 214 205 205 205 220 240  80 150 255 229 221\n",
            "  188 154 191 210 204 209 222 228 225   0]\n",
            " [ 98 233 198 210 222 229 229 234 249 220 194 215 217 241  65  73 106 117\n",
            "  168 219 221 215 217 223 223 224 229  29]\n",
            " [ 75 204 212 204 193 205 211 225 216 185 197 206 198 213 240 195 227 245\n",
            "  239 223 218 212 209 222 220 221 230  67]\n",
            " [ 48 203 183 194 213 197 185 190 194 192 202 214 219 221 220 236 225 216\n",
            "  199 206 186 181 177 172 181 205 206 115]\n",
            " [  0 122 219 193 179 171 183 196 204 210 213 207 211 210 200 196 194 191\n",
            "  195 191 198 192 176 156 167 177 210  92]\n",
            " [  0   0  74 189 212 191 175 172 175 181 185 188 189 188 193 198 204 209\n",
            "  210 210 211 188 188 194 192 216 170   0]\n",
            " [  2   0   0   0  66 200 222 237 239 242 246 243 244 221 220 193 191 179\n",
            "  182 182 181 176 166 168  99  58   0   0]\n",
            " [  0   0   0   0   0   0   0  40  61  44  72  41  35   0   0   0   0   0\n",
            "    0   0   0   0   0   0   0   0   0   0]\n",
            " [  0   0   0   0   0   0   0   0   0   0   0   0   0   0   0   0   0   0\n",
            "    0   0   0   0   0   0   0   0   0   0]\n",
            " [  0   0   0   0   0   0   0   0   0   0   0   0   0   0   0   0   0   0\n",
            "    0   0   0   0   0   0   0   0   0   0]]\n",
            "\n",
            "Training label:\n",
            "9\n",
            "\n"
          ]
        }
      ]
    },
    {
      "cell_type": "markdown",
      "source": [
        "- an array of number between 0 and 255"
      ],
      "metadata": {
        "id": "5OLc19GMUHan"
      }
    },
    {
      "cell_type": "code",
      "source": [
        "# check the shape \n",
        "train_data[0].shape, train_labels[0].shape"
      ],
      "metadata": {
        "colab": {
          "base_uri": "https://localhost:8080/"
        },
        "id": "gqh-qiVtURLV",
        "outputId": "c890d8cf-bb4e-4f94-fd04-985a6bef0abb"
      },
      "execution_count": 114,
      "outputs": [
        {
          "output_type": "execute_result",
          "data": {
            "text/plain": [
              "((28, 28), ())"
            ]
          },
          "metadata": {},
          "execution_count": 114
        }
      ]
    },
    {
      "cell_type": "code",
      "source": [
        "# plot a single sample \n",
        "import matplotlib.pyplot as plt\n",
        "plt.imshow(train_data[7])"
      ],
      "metadata": {
        "colab": {
          "base_uri": "https://localhost:8080/",
          "height": 282
        },
        "id": "SK_7T5J2UtG3",
        "outputId": "715b4c6c-7d67-455f-c9c3-7108f7575d80"
      },
      "execution_count": 115,
      "outputs": [
        {
          "output_type": "execute_result",
          "data": {
            "text/plain": [
              "<matplotlib.image.AxesImage at 0x7fe68b34c100>"
            ]
          },
          "metadata": {},
          "execution_count": 115
        },
        {
          "output_type": "display_data",
          "data": {
            "text/plain": [
              "<Figure size 432x288 with 1 Axes>"
            ],
            "image/png": "[encoded data removed]"
          },
          "metadata": {
            "needs_background": "light"
          }
        }
      ]
    },
    {
      "cell_type": "code",
      "source": [
        "train_labels[7]"
      ],
      "metadata": {
        "colab": {
          "base_uri": "https://localhost:8080/"
        },
        "id": "bMJ0v3j7U7WI",
        "outputId": "2814c9c7-008b-4b6b-da33-e153aeb62662"
      },
      "execution_count": 116,
      "outputs": [
        {
          "output_type": "execute_result",
          "data": {
            "text/plain": [
              "2"
            ]
          },
          "metadata": {},
          "execution_count": 116
        }
      ]
    },
    {
      "cell_type": "code",
      "source": [
        "class_names = ['T-shirt/top', 'Trouser', 'Pullover', 'Dress', 'Coat', \n",
        "               'Sandal', 'Shirt', 'Sneaker', 'Bag', 'Ankle boot']\n",
        "len(class_names)"
      ],
      "metadata": {
        "id": "Q0i_6U4GVCv-",
        "colab": {
          "base_uri": "https://localhost:8080/"
        },
        "outputId": "a3e5a352-a9f5-4cb9-cb73-fe9d01e63384"
      },
      "execution_count": 117,
      "outputs": [
        {
          "output_type": "execute_result",
          "data": {
            "text/plain": [
              "10"
            ]
          },
          "metadata": {},
          "execution_count": 117
        }
      ]
    },
    {
      "cell_type": "code",
      "source": [
        "# plot an example image and it's label \n",
        "plt.imshow(train_data[17], cmap = plt.cm.binary)\n",
        "plt.title(class_names[train_labels[17]])"
      ],
      "metadata": {
        "colab": {
          "base_uri": "https://localhost:8080/",
          "height": 298
        },
        "id": "QVw2eqhCWcdX",
        "outputId": "8f2ee952-3954-40c2-c97f-8b6449773a56"
      },
      "execution_count": 118,
      "outputs": [
        {
          "output_type": "execute_result",
          "data": {
            "text/plain": [
              "Text(0.5, 1.0, 'T-shirt/top')"
            ]
          },
          "metadata": {},
          "execution_count": 118
        },
        {
          "output_type": "display_data",
          "data": {
            "text/plain": [
              "<Figure size 432x288 with 1 Axes>"
            ],
            "image/png": "[encoded data removed]"
          },
          "metadata": {
            "needs_background": "light"
          }
        }
      ]
    },
    {
      "cell_type": "code",
      "source": [
        "# plot multiple random fashion mnist images \n",
        "import random \n",
        "plt.figure(figsize = (7, 7))\n",
        "for i in range(4):\n",
        "  ax = plt.subplot(2, 2, i+1)\n",
        "  rand_index = random.choice(range(len(train_data)))\n",
        "  plt.imshow(train_data[rand_index], cmap = plt.cm.binary)\n",
        "  plt.title(class_names[train_labels[rand_index]])\n",
        "  plt.axis(False)"
      ],
      "metadata": {
        "colab": {
          "base_uri": "https://localhost:8080/",
          "height": 427
        },
        "id": "khu7I9M-W4Jo",
        "outputId": "89165143-43fb-4189-e0d0-9ae716f4c8b6"
      },
      "execution_count": 119,
      "outputs": [
        {
          "output_type": "display_data",
          "data": {
            "text/plain": [
              "<Figure size 504x504 with 4 Axes>"
            ],
            "image/png": "[encoded data removed]"
          },
          "metadata": {
            "needs_background": "light"
          }
        }
      ]
    },
    {
      "cell_type": "markdown",
      "source": [
        "  # Build a Multi-class Classification \n",
        "\n",
        "  For our multi class model, we can use a similar architecture to our binary classifiers, however we have to tweak a few things \n",
        "  * Input shape = 28x28 (the shape of one image) \n",
        "  * Output shape  = 10 (one per class of clothing \n",
        "  * Loss function = tf.keras.losses.CategoricalCrossentropy() \n",
        "    * If your labels are OneHot encoded, use CategoricalCrossentropy() \n",
        "    * if your labels are integers, use SparseCategoricalCrossentropy()\n",
        "  * Output layer activation = softmax (not sigmoid)"
      ],
      "metadata": {
        "id": "xzXJ4WAiX5Ng"
      }
    },
    {
      "cell_type": "code",
      "source": [
        "# set random seed \n",
        "tf.random.set_seed(42)\n",
        "\n",
        "# 1. create a model \n",
        "model_9 = tf.keras.Sequential([\n",
        "    tf.keras.layers.Flatten(input_shape = (28, 28)), # input data needs to be flattened\n",
        "    tf.keras.layers.Dense(4, activation = 'relu'), \n",
        "    tf.keras.layers.Dense(4, activation = 'relu'), \n",
        "    tf.keras.layers.Dense(10, activation = 'softmax')\n",
        "])\n",
        "\n",
        "# 2. compile the model \n",
        "model_9.compile(loss = tf.keras.losses.SparseCategoricalCrossentropy(), # Use CategoricalCrossentropy when the output is OneHot Encoder\n",
        "                optimizer = tf.keras.optimizers.Adam(), \n",
        "                metrics = ['accuracy'])\n",
        "\n",
        "# 3. fit the model \n",
        "history_9 = model_9.fit(train_data, train_labels, validation_data = (test_data, test_labels), epochs = 10)"
      ],
      "metadata": {
        "colab": {
          "base_uri": "https://localhost:8080/"
        },
        "id": "UJHbMcPfjij_",
        "outputId": "91a9ff18-b28a-4cb8-ce7a-5c80665ec18a"
      },
      "execution_count": 126,
      "outputs": [
        {
          "output_type": "stream",
          "name": "stdout",
          "text": [
            "Epoch 1/10\n",
            "1875/1875 [==============================] - 6s 3ms/step - loss: 2.1799 - accuracy: 0.1597 - val_loss: 1.8017 - val_accuracy: 0.2015\n",
            "Epoch 2/10\n",
            "1875/1875 [==============================] - 5s 3ms/step - loss: 1.7090 - accuracy: 0.2494 - val_loss: 1.6514 - val_accuracy: 0.2945\n",
            "Epoch 3/10\n",
            "1875/1875 [==============================] - 5s 3ms/step - loss: 1.6367 - accuracy: 0.2860 - val_loss: 1.6065 - val_accuracy: 0.2788\n",
            "Epoch 4/10\n",
            "1875/1875 [==============================] - 5s 3ms/step - loss: 1.6103 - accuracy: 0.2925 - val_loss: 1.6002 - val_accuracy: 0.3065\n",
            "Epoch 5/10\n",
            "1875/1875 [==============================] - 5s 3ms/step - loss: 1.5932 - accuracy: 0.3058 - val_loss: 1.5831 - val_accuracy: 0.3228\n",
            "Epoch 6/10\n",
            "1875/1875 [==============================] - 5s 3ms/step - loss: 1.5887 - accuracy: 0.3109 - val_loss: 1.5775 - val_accuracy: 0.2965\n",
            "Epoch 7/10\n",
            "1875/1875 [==============================] - 5s 3ms/step - loss: 1.5750 - accuracy: 0.3196 - val_loss: 1.5609 - val_accuracy: 0.3324\n",
            "Epoch 8/10\n",
            "1875/1875 [==============================] - 6s 3ms/step - loss: 1.5742 - accuracy: 0.3204 - val_loss: 1.5694 - val_accuracy: 0.3237\n",
            "Epoch 9/10\n",
            "1875/1875 [==============================] - 6s 3ms/step - loss: 1.5730 - accuracy: 0.3239 - val_loss: 1.5671 - val_accuracy: 0.3332\n",
            "Epoch 10/10\n",
            "1875/1875 [==============================] - 5s 3ms/step - loss: 1.5771 - accuracy: 0.3216 - val_loss: 1.5488 - val_accuracy: 0.3410\n"
          ]
        }
      ]
    },
    {
      "cell_type": "code",
      "source": [
        "# check model summary \n",
        "model_9.summary()\n",
        "\n"
      ],
      "metadata": {
        "colab": {
          "base_uri": "https://localhost:8080/"
        },
        "id": "dELS6XmJkvC8",
        "outputId": "c7432ce4-346b-480f-ba00-2927c074e234"
      },
      "execution_count": 127,
      "outputs": [
        {
          "output_type": "stream",
          "name": "stdout",
          "text": [
            "Model: \"sequential_28\"\n",
            "_________________________________________________________________\n",
            " Layer (type)                Output Shape              Param #   \n",
            "=================================================================\n",
            " flatten_4 (Flatten)         (None, 784)               0         \n",
            "                                                                 \n",
            " dense_69 (Dense)            (None, 4)                 3140      \n",
            "                                                                 \n",
            " dense_70 (Dense)            (None, 4)                 20        \n",
            "                                                                 \n",
            " dense_71 (Dense)            (None, 10)                50        \n",
            "                                                                 \n",
            "=================================================================\n",
            "Total params: 3,210\n",
            "Trainable params: 3,210\n",
            "Non-trainable params: 0\n",
            "_________________________________________________________________\n"
          ]
        }
      ]
    },
    {
      "cell_type": "code",
      "source": [
        "# check training data max and min values\n",
        "train_data.max(), train_data.min()"
      ],
      "metadata": {
        "colab": {
          "base_uri": "https://localhost:8080/"
        },
        "id": "G9heK6tQo6_6",
        "outputId": "9b38b552-3631-4dd9-bcae-fac0bbca3a87"
      },
      "execution_count": 128,
      "outputs": [
        {
          "output_type": "execute_result",
          "data": {
            "text/plain": [
              "(255, 0)"
            ]
          },
          "metadata": {},
          "execution_count": 128
        }
      ]
    },
    {
      "cell_type": "markdown",
      "source": [
        "## Neural networks prefer data to be sclaed(normalized), i.e the numbers should be between 0 and 1"
      ],
      "metadata": {
        "id": "9Xc_upYnpXN4"
      }
    },
    {
      "cell_type": "code",
      "source": [
        "# divide through by the max number \n",
        "train_data_norm = train_data / 255 \n",
        "test_data_norm = test_data / 255"
      ],
      "metadata": {
        "id": "9JRTyzI7pjVv"
      },
      "execution_count": 129,
      "outputs": []
    },
    {
      "cell_type": "code",
      "source": [
        "# check normalized training data max and min values\n",
        "train_data_norm.max(), train_data_norm.min()"
      ],
      "metadata": {
        "colab": {
          "base_uri": "https://localhost:8080/"
        },
        "id": "mNvZBGc3py6e",
        "outputId": "5c3266dd-3325-4bea-86a1-720a47f748fc"
      },
      "execution_count": 130,
      "outputs": [
        {
          "output_type": "execute_result",
          "data": {
            "text/plain": [
              "(1.0, 0.0)"
            ]
          },
          "metadata": {},
          "execution_count": 130
        }
      ]
    },
    {
      "cell_type": "markdown",
      "source": [
        "### Build a model with the scaled data"
      ],
      "metadata": {
        "id": "p8YABK55p3kh"
      }
    },
    {
      "cell_type": "code",
      "source": [
        "# set random seed \n",
        "tf.random.set_seed(42)\n",
        "\n",
        "# 1. create a model \n",
        "model_10 = tf.keras.Sequential([\n",
        "    tf.keras.layers.Flatten(input_shape = (28, 28)), # input data needs to be flattened\n",
        "    tf.keras.layers.Dense(4, activation = 'relu'), \n",
        "    tf.keras.layers.Dense(4, activation = 'relu'), \n",
        "    tf.keras.layers.Dense(10, activation = 'softmax')\n",
        "])\n",
        "\n",
        "# 2. compile the model \n",
        "model_10.compile(loss = tf.keras.losses.SparseCategoricalCrossentropy(), # Use CategoricalCrossentropy when the output is OneHot Encoder\n",
        "                optimizer = tf.keras.optimizers.Adam(), \n",
        "                metrics = ['accuracy'])\n",
        "\n",
        "# 3. fit the model \n",
        "history_10 = model_10.fit(train_data_norm, train_labels, validation_data = (test_data_norm, test_labels), epochs = 10)"
      ],
      "metadata": {
        "colab": {
          "base_uri": "https://localhost:8080/"
        },
        "id": "eXD4PwaWqAmx",
        "outputId": "4a751e37-0cd1-4f39-9001-2426ea7a4461"
      },
      "execution_count": 131,
      "outputs": [
        {
          "output_type": "stream",
          "name": "stdout",
          "text": [
            "Epoch 1/10\n",
            "1875/1875 [==============================] - 6s 3ms/step - loss: 1.0348 - accuracy: 0.6474 - val_loss: 0.6937 - val_accuracy: 0.7617\n",
            "Epoch 2/10\n",
            "1875/1875 [==============================] - 5s 3ms/step - loss: 0.6376 - accuracy: 0.7757 - val_loss: 0.6400 - val_accuracy: 0.7820\n",
            "Epoch 3/10\n",
            "1875/1875 [==============================] - 5s 3ms/step - loss: 0.5942 - accuracy: 0.7914 - val_loss: 0.6247 - val_accuracy: 0.7783\n",
            "Epoch 4/10\n",
            "1875/1875 [==============================] - 5s 3ms/step - loss: 0.5750 - accuracy: 0.7979 - val_loss: 0.6078 - val_accuracy: 0.7881\n",
            "Epoch 5/10\n",
            "1875/1875 [==============================] - 5s 3ms/step - loss: 0.5641 - accuracy: 0.8006 - val_loss: 0.6169 - val_accuracy: 0.7881\n",
            "Epoch 6/10\n",
            "1875/1875 [==============================] - 5s 3ms/step - loss: 0.5544 - accuracy: 0.8043 - val_loss: 0.5855 - val_accuracy: 0.7951\n",
            "Epoch 7/10\n",
            "1875/1875 [==============================] - 5s 3ms/step - loss: 0.5488 - accuracy: 0.8063 - val_loss: 0.6097 - val_accuracy: 0.7836\n",
            "Epoch 8/10\n",
            "1875/1875 [==============================] - 5s 3ms/step - loss: 0.5428 - accuracy: 0.8077 - val_loss: 0.5787 - val_accuracy: 0.7971\n",
            "Epoch 9/10\n",
            "1875/1875 [==============================] - 5s 3ms/step - loss: 0.5373 - accuracy: 0.8097 - val_loss: 0.5698 - val_accuracy: 0.7977\n",
            "Epoch 10/10\n",
            "1875/1875 [==============================] - 5s 3ms/step - loss: 0.5360 - accuracy: 0.8124 - val_loss: 0.5658 - val_accuracy: 0.8014\n"
          ]
        }
      ]
    },
    {
      "cell_type": "markdown",
      "source": [
        "✈ **Note:** Just by scaling the data, the model accuracy more than doubled"
      ],
      "metadata": {
        "id": "QVgNel2wq10l"
      }
    },
    {
      "cell_type": "code",
      "source": [
        "import pandas as pd \n",
        "\n",
        "# plot non_normalised data loss curves \n",
        "pd.DataFrame(history_9.history).plot(title = 'Non normalized', xlabel = 'epochs')\n",
        "# plot non_normalised data loss curves \n",
        "pd.DataFrame(history_10.history).plot(title = 'Normalized', xlabel = 'epochs')"
      ],
      "metadata": {
        "colab": {
          "base_uri": "https://localhost:8080/",
          "height": 590
        },
        "id": "5a81OvHfqL5Z",
        "outputId": "e3b01731-a0ae-43ad-ac2e-0e8386794135"
      },
      "execution_count": 133,
      "outputs": [
        {
          "output_type": "execute_result",
          "data": {
            "text/plain": [
              "<matplotlib.axes._subplots.AxesSubplot at 0x7fe67af78d60>"
            ]
          },
          "metadata": {},
          "execution_count": 133
        },
        {
          "output_type": "display_data",
          "data": {
            "text/plain": [
              "<Figure size 432x288 with 1 Axes>"
            ],
            "image/png": "[encoded data removed]"
          },
          "metadata": {
            "needs_background": "light"
          }
        },
        {
          "output_type": "display_data",
          "data": {
            "text/plain": [
              "<Figure size 432x288 with 1 Axes>"
            ],
            "image/png": "[encoded data removed]"
          },
          "metadata": {
            "needs_background": "light"
          }
        }
      ]
    },
    {
      "cell_type": "markdown",
      "source": [
        "### Finding the ideal learning rate"
      ],
      "metadata": {
        "id": "y38c65hLriUO"
      }
    },
    {
      "cell_type": "code",
      "source": [
        "# set random seed \n",
        "tf.random.set_seed(42)\n",
        "\n",
        "# 1. create a model \n",
        "model_11 = tf.keras.Sequential([\n",
        "    tf.keras.layers.Flatten(input_shape = (28, 28)), # input data needs to be flattened\n",
        "    tf.keras.layers.Dense(4, activation = 'relu'), \n",
        "    tf.keras.layers.Dense(4, activation = 'relu'), \n",
        "    tf.keras.layers.Dense(10, activation = 'softmax')\n",
        "])\n",
        "\n",
        "# 2. compile the model \n",
        "model_11.compile(loss = tf.keras.losses.SparseCategoricalCrossentropy(), # Use CategoricalCrossentropy when the output is OneHot Encoder\n",
        "                optimizer = tf.keras.optimizers.Adam(), \n",
        "                metrics = ['accuracy']) \n",
        "\n",
        "# 3. find the ideal learning rate\n",
        "lr_scheduler = tf.keras.callbacks.LearningRateScheduler(lambda epoch: 1e-3 * 10**(epoch/20))\n",
        "\n",
        "# 4. fit the model \n",
        "history_11 = model_11.fit(train_data_norm, train_labels, validation_data = (test_data_norm, test_labels), epochs = 40)"
      ],
      "metadata": {
        "colab": {
          "base_uri": "https://localhost:8080/"
        },
        "id": "2znCgPGXsEYG",
        "outputId": "fcc672f9-39b1-4675-ab1f-fc0b447d815d"
      },
      "execution_count": 135,
      "outputs": [
        {
          "output_type": "stream",
          "name": "stdout",
          "text": [
            "Epoch 1/40\n",
            "1875/1875 [==============================] - 6s 3ms/step - loss: 1.0348 - accuracy: 0.6474 - val_loss: 0.6937 - val_accuracy: 0.7617\n",
            "Epoch 2/40\n",
            "1875/1875 [==============================] - 6s 3ms/step - loss: 0.6376 - accuracy: 0.7757 - val_loss: 0.6400 - val_accuracy: 0.7820\n",
            "Epoch 3/40\n",
            "1875/1875 [==============================] - 7s 4ms/step - loss: 0.5942 - accuracy: 0.7914 - val_loss: 0.6247 - val_accuracy: 0.7783\n",
            "Epoch 4/40\n",
            "1875/1875 [==============================] - 5s 3ms/step - loss: 0.5750 - accuracy: 0.7979 - val_loss: 0.6078 - val_accuracy: 0.7881\n",
            "Epoch 5/40\n",
            "1875/1875 [==============================] - 5s 3ms/step - loss: 0.5641 - accuracy: 0.8006 - val_loss: 0.6169 - val_accuracy: 0.7881\n",
            "Epoch 6/40\n",
            "1875/1875 [==============================] - 5s 3ms/step - loss: 0.5544 - accuracy: 0.8043 - val_loss: 0.5855 - val_accuracy: 0.7951\n",
            "Epoch 7/40\n",
            "1875/1875 [==============================] - 6s 3ms/step - loss: 0.5488 - accuracy: 0.8063 - val_loss: 0.6097 - val_accuracy: 0.7836\n",
            "Epoch 8/40\n",
            "1875/1875 [==============================] - 9s 5ms/step - loss: 0.5428 - accuracy: 0.8077 - val_loss: 0.5787 - val_accuracy: 0.7971\n",
            "Epoch 9/40\n",
            "1875/1875 [==============================] - 9s 5ms/step - loss: 0.5373 - accuracy: 0.8097 - val_loss: 0.5698 - val_accuracy: 0.7977\n",
            "Epoch 10/40\n",
            "1875/1875 [==============================] - 8s 4ms/step - loss: 0.5360 - accuracy: 0.8124 - val_loss: 0.5658 - val_accuracy: 0.8014\n",
            "Epoch 11/40\n",
            "1875/1875 [==============================] - 8s 4ms/step - loss: 0.5311 - accuracy: 0.8130 - val_loss: 0.5714 - val_accuracy: 0.8002\n",
            "Epoch 12/40\n",
            "1875/1875 [==============================] - 6s 3ms/step - loss: 0.5284 - accuracy: 0.8132 - val_loss: 0.5626 - val_accuracy: 0.8027\n",
            "Epoch 13/40\n",
            "1875/1875 [==============================] - 5s 3ms/step - loss: 0.5271 - accuracy: 0.8138 - val_loss: 0.5619 - val_accuracy: 0.8041\n",
            "Epoch 14/40\n",
            "1875/1875 [==============================] - 9s 5ms/step - loss: 0.5249 - accuracy: 0.8143 - val_loss: 0.5718 - val_accuracy: 0.7991\n",
            "Epoch 15/40\n",
            "1875/1875 [==============================] - 8s 4ms/step - loss: 0.5231 - accuracy: 0.8148 - val_loss: 0.5706 - val_accuracy: 0.8024\n",
            "Epoch 16/40\n",
            "1875/1875 [==============================] - 6s 3ms/step - loss: 0.5203 - accuracy: 0.8162 - val_loss: 0.5731 - val_accuracy: 0.8023\n",
            "Epoch 17/40\n",
            "1875/1875 [==============================] - 7s 4ms/step - loss: 0.5191 - accuracy: 0.8176 - val_loss: 0.5594 - val_accuracy: 0.8030\n",
            "Epoch 18/40\n",
            "1875/1875 [==============================] - 6s 3ms/step - loss: 0.5176 - accuracy: 0.8157 - val_loss: 0.5582 - val_accuracy: 0.8053\n",
            "Epoch 19/40\n",
            "1875/1875 [==============================] - 7s 4ms/step - loss: 0.5156 - accuracy: 0.8169 - val_loss: 0.5644 - val_accuracy: 0.8007\n",
            "Epoch 20/40\n",
            "1875/1875 [==============================] - 7s 4ms/step - loss: 0.5146 - accuracy: 0.8177 - val_loss: 0.5660 - val_accuracy: 0.8075\n",
            "Epoch 21/40\n",
            "1875/1875 [==============================] - 9s 5ms/step - loss: 0.5125 - accuracy: 0.8197 - val_loss: 0.5684 - val_accuracy: 0.8004\n",
            "Epoch 22/40\n",
            "1875/1875 [==============================] - 5s 3ms/step - loss: 0.5112 - accuracy: 0.8180 - val_loss: 0.5666 - val_accuracy: 0.8029\n",
            "Epoch 23/40\n",
            "1875/1875 [==============================] - 7s 4ms/step - loss: 0.5105 - accuracy: 0.8195 - val_loss: 0.5570 - val_accuracy: 0.8068\n",
            "Epoch 24/40\n",
            "1875/1875 [==============================] - 5s 3ms/step - loss: 0.5101 - accuracy: 0.8177 - val_loss: 0.5565 - val_accuracy: 0.8076\n",
            "Epoch 25/40\n",
            "1875/1875 [==============================] - 5s 3ms/step - loss: 0.5075 - accuracy: 0.8196 - val_loss: 0.5572 - val_accuracy: 0.8048\n",
            "Epoch 26/40\n",
            "1875/1875 [==============================] - 5s 3ms/step - loss: 0.5081 - accuracy: 0.8192 - val_loss: 0.5658 - val_accuracy: 0.8065\n",
            "Epoch 27/40\n",
            "1875/1875 [==============================] - 5s 3ms/step - loss: 0.5058 - accuracy: 0.8206 - val_loss: 0.5587 - val_accuracy: 0.8045\n",
            "Epoch 28/40\n",
            "1875/1875 [==============================] - 5s 3ms/step - loss: 0.5052 - accuracy: 0.8206 - val_loss: 0.5562 - val_accuracy: 0.8077\n",
            "Epoch 29/40\n",
            "1875/1875 [==============================] - 7s 3ms/step - loss: 0.5050 - accuracy: 0.8205 - val_loss: 0.5664 - val_accuracy: 0.8054\n",
            "Epoch 30/40\n",
            "1875/1875 [==============================] - 5s 3ms/step - loss: 0.5024 - accuracy: 0.8213 - val_loss: 0.5576 - val_accuracy: 0.8053\n",
            "Epoch 31/40\n",
            "1875/1875 [==============================] - 5s 3ms/step - loss: 0.5028 - accuracy: 0.8215 - val_loss: 0.5628 - val_accuracy: 0.8035\n",
            "Epoch 32/40\n",
            "1875/1875 [==============================] - 5s 3ms/step - loss: 0.5012 - accuracy: 0.8205 - val_loss: 0.5573 - val_accuracy: 0.8095\n",
            "Epoch 33/40\n",
            "1875/1875 [==============================] - 5s 3ms/step - loss: 0.4998 - accuracy: 0.8218 - val_loss: 0.5775 - val_accuracy: 0.8006\n",
            "Epoch 34/40\n",
            "1875/1875 [==============================] - 5s 3ms/step - loss: 0.4995 - accuracy: 0.8221 - val_loss: 0.5596 - val_accuracy: 0.8072\n",
            "Epoch 35/40\n",
            "1875/1875 [==============================] - 5s 3ms/step - loss: 0.4980 - accuracy: 0.8236 - val_loss: 0.5508 - val_accuracy: 0.8093\n",
            "Epoch 36/40\n",
            "1875/1875 [==============================] - 5s 3ms/step - loss: 0.4959 - accuracy: 0.8244 - val_loss: 0.5515 - val_accuracy: 0.8066\n",
            "Epoch 37/40\n",
            "1875/1875 [==============================] - 5s 3ms/step - loss: 0.4961 - accuracy: 0.8237 - val_loss: 0.5607 - val_accuracy: 0.8003\n",
            "Epoch 38/40\n",
            "1875/1875 [==============================] - 5s 3ms/step - loss: 0.4947 - accuracy: 0.8251 - val_loss: 0.5455 - val_accuracy: 0.8113\n",
            "Epoch 39/40\n",
            "1875/1875 [==============================] - 5s 3ms/step - loss: 0.4943 - accuracy: 0.8242 - val_loss: 0.5594 - val_accuracy: 0.8054\n",
            "Epoch 40/40\n",
            "1875/1875 [==============================] - 5s 3ms/step - loss: 0.4926 - accuracy: 0.8249 - val_loss: 0.5527 - val_accuracy: 0.8053\n"
          ]
        }
      ]
    },
    {
      "cell_type": "code",
      "source": [
        "# plot lwearning rate decay curve \n",
        "import numpy as np \n",
        "import matplotlib.pyplot as plt \n",
        "\n",
        "lrs = 1e-3 * 10**(tf.range(40)/20) \n",
        "plt.semilogx(lrs, history_11.history['loss'])\n",
        "plt.xlabel('Learning rate')\n",
        "plt.ylabel('Loss')\n",
        "plt.title('Finding the ideal learning rate ')"
      ],
      "metadata": {
        "colab": {
          "base_uri": "https://localhost:8080/",
          "height": 316
        },
        "id": "zj4Jhz8Ls5r6",
        "outputId": "93dd5de0-c3ba-4c68-b150-8017c0f48162"
      },
      "execution_count": 152,
      "outputs": [
        {
          "output_type": "execute_result",
          "data": {
            "text/plain": [
              "Text(0.5, 1.0, 'Finding the ideal learning rate ')"
            ]
          },
          "metadata": {},
          "execution_count": 152
        },
        {
          "output_type": "display_data",
          "data": {
            "text/plain": [
              "<Figure size 432x288 with 1 Axes>"
            ],
            "image/png": "[encoded data removed]"
          },
          "metadata": {
            "needs_background": "light"
          }
        }
      ]
    },
    {
      "cell_type": "markdown",
      "source": [
        "- The ideal learning rate is $10^-3$"
      ],
      "metadata": {
        "id": "8aoJzGYeueUZ"
      }
    },
    {
      "cell_type": "code",
      "source": [
        "1e-3"
      ],
      "metadata": {
        "colab": {
          "base_uri": "https://localhost:8080/"
        },
        "id": "0_juj2GwvZFz",
        "outputId": "224afd58-ec43-4b5a-ee45-5fe016190433"
      },
      "execution_count": 153,
      "outputs": [
        {
          "output_type": "execute_result",
          "data": {
            "text/plain": [
              "0.001"
            ]
          },
          "metadata": {},
          "execution_count": 153
        }
      ]
    },
    {
      "cell_type": "markdown",
      "source": [
        "### Build a model with the ideal learning rate which is 1"
      ],
      "metadata": {
        "id": "nGij2ajXvqIv"
      }
    },
    {
      "cell_type": "code",
      "source": [
        "# set random seed \n",
        "tf.random.set_seed(42)\n",
        "\n",
        "# 1. create a model \n",
        "model_12 = tf.keras.Sequential([\n",
        "    tf.keras.layers.Flatten(input_shape = (28, 28)), \n",
        "    tf.keras.layers.Dense(4, activation = 'relu'), \n",
        "    tf.keras.layers.Dense(4, activation = 'relu'), \n",
        "    tf.keras.layers.Dense(10, activation = 'softmax')\n",
        "])\n",
        "\n",
        "# 2. compile the model \n",
        "model_12.compile(loss = tf.keras.losses.SparseCategoricalCrossentropy(), # Use CategoricalCrossentropy when the output is OneHot Encoder\n",
        "                optimizer = tf.keras.optimizers.Adam(0.001), \n",
        "                metrics = ['accuracy']) \n",
        "\n",
        "# 3. fit the model \n",
        "history_12 = model_12.fit(train_data_norm, train_labels, validation_data = (test_data_norm, test_labels), epochs = 20)"
      ],
      "metadata": {
        "colab": {
          "base_uri": "https://localhost:8080/"
        },
        "id": "seuOsbX9v9ab",
        "outputId": "e3e8663a-9152-4221-aea8-3d43a7772256"
      },
      "execution_count": 154,
      "outputs": [
        {
          "output_type": "stream",
          "name": "stdout",
          "text": [
            "Epoch 1/20\n",
            "1875/1875 [==============================] - 5s 3ms/step - loss: 1.0348 - accuracy: 0.6474 - val_loss: 0.6937 - val_accuracy: 0.7617\n",
            "Epoch 2/20\n",
            "1875/1875 [==============================] - 5s 3ms/step - loss: 0.6376 - accuracy: 0.7757 - val_loss: 0.6400 - val_accuracy: 0.7820\n",
            "Epoch 3/20\n",
            "1875/1875 [==============================] - 5s 3ms/step - loss: 0.5942 - accuracy: 0.7914 - val_loss: 0.6247 - val_accuracy: 0.7783\n",
            "Epoch 4/20\n",
            "1875/1875 [==============================] - 5s 3ms/step - loss: 0.5750 - accuracy: 0.7979 - val_loss: 0.6078 - val_accuracy: 0.7881\n",
            "Epoch 5/20\n",
            "1875/1875 [==============================] - 5s 3ms/step - loss: 0.5641 - accuracy: 0.8006 - val_loss: 0.6169 - val_accuracy: 0.7881\n",
            "Epoch 6/20\n",
            "1875/1875 [==============================] - 5s 3ms/step - loss: 0.5544 - accuracy: 0.8043 - val_loss: 0.5855 - val_accuracy: 0.7951\n",
            "Epoch 7/20\n",
            "1875/1875 [==============================] - 5s 3ms/step - loss: 0.5488 - accuracy: 0.8063 - val_loss: 0.6097 - val_accuracy: 0.7836\n",
            "Epoch 8/20\n",
            "1875/1875 [==============================] - 5s 3ms/step - loss: 0.5428 - accuracy: 0.8077 - val_loss: 0.5787 - val_accuracy: 0.7971\n",
            "Epoch 9/20\n",
            "1875/1875 [==============================] - 5s 3ms/step - loss: 0.5373 - accuracy: 0.8097 - val_loss: 0.5698 - val_accuracy: 0.7977\n",
            "Epoch 10/20\n",
            "1875/1875 [==============================] - 5s 3ms/step - loss: 0.5360 - accuracy: 0.8124 - val_loss: 0.5658 - val_accuracy: 0.8014\n",
            "Epoch 11/20\n",
            "1875/1875 [==============================] - 5s 3ms/step - loss: 0.5311 - accuracy: 0.8130 - val_loss: 0.5714 - val_accuracy: 0.8002\n",
            "Epoch 12/20\n",
            "1875/1875 [==============================] - 5s 3ms/step - loss: 0.5284 - accuracy: 0.8132 - val_loss: 0.5626 - val_accuracy: 0.8027\n",
            "Epoch 13/20\n",
            "1875/1875 [==============================] - 5s 3ms/step - loss: 0.5271 - accuracy: 0.8138 - val_loss: 0.5619 - val_accuracy: 0.8041\n",
            "Epoch 14/20\n",
            "1875/1875 [==============================] - 6s 3ms/step - loss: 0.5249 - accuracy: 0.8143 - val_loss: 0.5718 - val_accuracy: 0.7991\n",
            "Epoch 15/20\n",
            "1875/1875 [==============================] - 7s 3ms/step - loss: 0.5231 - accuracy: 0.8148 - val_loss: 0.5706 - val_accuracy: 0.8024\n",
            "Epoch 16/20\n",
            "1875/1875 [==============================] - 7s 4ms/step - loss: 0.5203 - accuracy: 0.8162 - val_loss: 0.5731 - val_accuracy: 0.8023\n",
            "Epoch 17/20\n",
            "1875/1875 [==============================] - 5s 3ms/step - loss: 0.5191 - accuracy: 0.8176 - val_loss: 0.5594 - val_accuracy: 0.8030\n",
            "Epoch 18/20\n",
            "1875/1875 [==============================] - 5s 3ms/step - loss: 0.5176 - accuracy: 0.8157 - val_loss: 0.5582 - val_accuracy: 0.8053\n",
            "Epoch 19/20\n",
            "1875/1875 [==============================] - 5s 3ms/step - loss: 0.5156 - accuracy: 0.8169 - val_loss: 0.5644 - val_accuracy: 0.8007\n",
            "Epoch 20/20\n",
            "1875/1875 [==============================] - 5s 3ms/step - loss: 0.5146 - accuracy: 0.8177 - val_loss: 0.5660 - val_accuracy: 0.8075\n"
          ]
        }
      ]
    },
    {
      "cell_type": "markdown",
      "source": [],
      "metadata": {
        "id": "5YewVzyGxGyE"
      }
    },
    {
      "cell_type": "markdown",
      "source": [
        "### Evaluate our model"
      ],
      "metadata": {
        "id": "cN5oipulwFhU"
      }
    },
    {
      "cell_type": "code",
      "source": [
        "from sklearn.metrics import confusion_matrix \n",
        "\n",
        "# predict unseen data \n",
        "y_probs = model_12.predict(test_data_norm)\n",
        "y_probs"
      ],
      "metadata": {
        "colab": {
          "base_uri": "https://localhost:8080/"
        },
        "id": "KHYPAf6Ly8KC",
        "outputId": "42f5a518-037e-45e0-e990-69403ec94774"
      },
      "execution_count": 161,
      "outputs": [
        {
          "output_type": "stream",
          "name": "stdout",
          "text": [
            "313/313 [==============================] - 0s 2ms/step\n"
          ]
        },
        {
          "output_type": "execute_result",
          "data": {
            "text/plain": [
              "array([[8.5630038e-11, 3.5361923e-13, 2.6633796e-05, ..., 9.1868639e-02,\n",
              "        4.0605105e-03, 8.0787414e-01],\n",
              "       [3.4278555e-06, 1.2899412e-16, 9.5989150e-01, ..., 1.1383710e-28,\n",
              "        6.3271867e-04, 4.4789640e-08],\n",
              "       [6.1063060e-05, 9.9657673e-01, 4.3867310e-08, ..., 7.3238853e-18,\n",
              "        5.4811920e-08, 4.9225709e-14],\n",
              "       ...,\n",
              "       [7.8579471e-02, 2.2294847e-05, 1.4033382e-01, ..., 2.9534183e-20,\n",
              "        1.1197245e-01, 4.7600044e-09],\n",
              "       [3.3110868e-05, 9.9301320e-01, 2.3392292e-07, ..., 9.3986522e-15,\n",
              "        8.1592469e-07, 1.2158882e-11],\n",
              "       [7.9816104e-08, 7.7579027e-10, 1.6470609e-04, ..., 4.3826353e-02,\n",
              "        1.5162523e-03, 3.9120510e-02]], dtype=float32)"
            ]
          },
          "metadata": {},
          "execution_count": 161
        }
      ]
    },
    {
      "cell_type": "markdown",
      "source": [
        "- predict probabilities of the class instead of the actual class"
      ],
      "metadata": {
        "id": "JbhD1FgLz1ns"
      }
    },
    {
      "cell_type": "code",
      "source": [
        "y_probs[0]"
      ],
      "metadata": {
        "colab": {
          "base_uri": "https://localhost:8080/"
        },
        "id": "1XBOcZog0Qfk",
        "outputId": "9185f861-e17d-4a61-c314-ef6d40933fd4"
      },
      "execution_count": 162,
      "outputs": [
        {
          "output_type": "execute_result",
          "data": {
            "text/plain": [
              "array([8.5630038e-11, 3.5361923e-13, 2.6633796e-05, 4.6356057e-08,\n",
              "       5.0949642e-05, 9.6118979e-02, 8.1778097e-08, 9.1868639e-02,\n",
              "       4.0605105e-03, 8.0787414e-01], dtype=float32)"
            ]
          },
          "metadata": {},
          "execution_count": 162
        }
      ]
    },
    {
      "cell_type": "code",
      "source": [
        "# finding the class with the highest probabilities\n",
        "tf.argmax(y_probs[0])"
      ],
      "metadata": {
        "colab": {
          "base_uri": "https://localhost:8080/"
        },
        "id": "XJvvCcxy0CAg",
        "outputId": "54f01f5c-c746-44cd-cdbb-29092544887a"
      },
      "execution_count": 163,
      "outputs": [
        {
          "output_type": "execute_result",
          "data": {
            "text/plain": [
              "<tf.Tensor: shape=(), dtype=int64, numpy=9>"
            ]
          },
          "metadata": {},
          "execution_count": 163
        }
      ]
    },
    {
      "cell_type": "code",
      "source": [
        "# convert all of the prediction probabilites into integers \n",
        "y_preds = y_probs.argmax(axis = 1)\n",
        "\n",
        "# view first 10 prediction labels \n",
        "y_preds[:10]"
      ],
      "metadata": {
        "colab": {
          "base_uri": "https://localhost:8080/"
        },
        "id": "XidbbKsk0gqp",
        "outputId": "ea5df3e4-337a-47c7-c851-8b8dd08ad57e"
      },
      "execution_count": 164,
      "outputs": [
        {
          "output_type": "execute_result",
          "data": {
            "text/plain": [
              "array([9, 2, 1, 1, 6, 1, 4, 6, 5, 7])"
            ]
          },
          "metadata": {},
          "execution_count": 164
        }
      ]
    },
    {
      "cell_type": "code",
      "source": [
        "test_labels[:10]"
      ],
      "metadata": {
        "colab": {
          "base_uri": "https://localhost:8080/"
        },
        "id": "v1oAZyPV0gIz",
        "outputId": "743170b0-8f38-4370-afed-49a5e79adc61"
      },
      "execution_count": 165,
      "outputs": [
        {
          "output_type": "execute_result",
          "data": {
            "text/plain": [
              "array([9, 2, 1, 1, 6, 1, 4, 6, 5, 7], dtype=uint8)"
            ]
          },
          "metadata": {},
          "execution_count": 165
        }
      ]
    },
    {
      "cell_type": "code",
      "source": [
        "# create confusion matrix \n",
        "confusion_matrix(test_labels, y_preds)"
      ],
      "metadata": {
        "colab": {
          "base_uri": "https://localhost:8080/"
        },
        "id": "POdzjQqN1Gno",
        "outputId": "7bc1fd63-f525-44a6-e03a-a0a041dd060f"
      },
      "execution_count": 167,
      "outputs": [
        {
          "output_type": "execute_result",
          "data": {
            "text/plain": [
              "array([[696,   8,  25,  87,   9,   5, 160,   0,  10,   0],\n",
              "       [  2, 939,   2,  35,   9,   0,  13,   0,   0,   0],\n",
              "       [ 19,   2, 656,  10, 188,   0, 110,   0,  15,   0],\n",
              "       [ 39,  10,  10, 819,  55,   0,  47,   1,  19,   0],\n",
              "       [  0,   0,  95,  23, 800,   0,  73,   0,   7,   2],\n",
              "       [  0,   0,   1,   0,   0, 894,   0,  60,   7,  38],\n",
              "       [106,   4, 158,  57, 159,   1, 499,   0,  16,   0],\n",
              "       [  0,   0,   0,   0,   0,  31,   0, 936,   0,  33],\n",
              "       [  4,   1,  38,  15,   8,  12,   9,   5, 906,   2],\n",
              "       [  0,   0,   1,   0,   2,  15,   0,  51,   1, 930]])"
            ]
          },
          "metadata": {},
          "execution_count": 167
        }
      ]
    },
    {
      "cell_type": "markdown",
      "source": [
        "### Prettify the confusion matrix"
      ],
      "metadata": {
        "id": "1MaJmzzc1jwS"
      }
    },
    {
      "cell_type": "code",
      "source": [
        "import seaborn as sns \n",
        "plt.figure(figsize = (8, 6))\n",
        "sns.heatmap(confusion_matrix(test_labels, y_preds), annot = True, fmt = 'd', \n",
        "            linewidth = 2) \n",
        "plt.xlabel('Predicted label')\n",
        "plt.ylabel('True label') \n",
        "plt.title('Confusion Matrix')\n",
        "plt.show()"
      ],
      "metadata": {
        "colab": {
          "base_uri": "https://localhost:8080/",
          "height": 404
        },
        "id": "ckH7kF_kxpxz",
        "outputId": "df616f7f-c0fa-4759-d25d-8a7b3646dea1"
      },
      "execution_count": 169,
      "outputs": [
        {
          "output_type": "display_data",
          "data": {
            "text/plain": [
              "<Figure size 576x432 with 2 Axes>"
            ],
            "image/png": "[encoded data removed]"
          },
          "metadata": {
            "needs_background": "light"
          }
        }
      ]
    },
    {
      "cell_type": "markdown",
      "source": [
        "### Visualize the data \n",
        "* Plot a random image \n",
        "* Make a prediction on said image \n",
        "* Label the plot with the truth label and the predicted label"
      ],
      "metadata": {
        "id": "5Z2cgVzH1XFC"
      }
    },
    {
      "cell_type": "code",
      "source": [
        "import random \n",
        "\n",
        "def plot_random_image(model, images, true_labels, classes): \n",
        "  '''\n",
        "  picks a random image, plots it and labels it with a prediction and truth label\n",
        "  ''' \n",
        "  # set up random integer \n",
        "  i = random.randint(0, len(images)) \n",
        "\n",
        "  # create predictions and target\n",
        "  target_image = images[i]\n",
        "  pred_probs = model.predict(target_image.reshape(1, 28, 28))\n",
        "  pred_label = classes[pred_probs.argmax()]\n",
        "  true_label = classes[true_labels[i]]\n",
        "\n",
        "  # plot the image \n",
        "  plt.imshow(target_image, cmap = plt.cm.binary)\n",
        "\n",
        "  # change the color of the titles depending on if the prediction is right or worng \n",
        "  if pred_label == true_label:\n",
        "    color = 'green'\n",
        "  else: \n",
        "    color = 'red'\n",
        "\n",
        "  # add xlabel information (prediction/true label)\n",
        "  plt.xlabel('Pred: {} {:2.0f}% (True: {})'.format(pred_label, \n",
        "                                                   100*tf.reduce_max(pred_probs),\n",
        "                                                   true_label), \n",
        "             color = color)"
      ],
      "metadata": {
        "id": "ICuSIWQS2ZT5"
      },
      "execution_count": 174,
      "outputs": []
    },
    {
      "cell_type": "code",
      "source": [
        "# check out a random image as well as it's prediction \n",
        "plot_random_image(model_12, test_data_norm, \n",
        "                  test_labels, class_names)"
      ],
      "metadata": {
        "colab": {
          "base_uri": "https://localhost:8080/",
          "height": 296
        },
        "id": "DcY5ZNRd6BoR",
        "outputId": "33a3d8b8-54cf-4649-feac-13874d044f12"
      },
      "execution_count": 175,
      "outputs": [
        {
          "output_type": "stream",
          "name": "stdout",
          "text": [
            "1/1 [==============================] - 0s 165ms/step\n"
          ]
        },
        {
          "output_type": "display_data",
          "data": {
            "text/plain": [
              "<Figure size 432x288 with 1 Axes>"
            ],
            "image/png": "[encoded data removed]"
          },
          "metadata": {
            "needs_background": "light"
          }
        }
      ]
    },
    {
      "cell_type": "markdown",
      "source": [
        "What patterns is our model Learning"
      ],
      "metadata": {
        "id": "Oro6E-0P6bq5"
      }
    },
    {
      "cell_type": "code",
      "source": [
        "# find the layers of our most recent model \n",
        "model_12.layers"
      ],
      "metadata": {
        "colab": {
          "base_uri": "https://localhost:8080/"
        },
        "id": "QKDqDxhB6wTk",
        "outputId": "cb997427-cc57-4345-979a-e4ed8f43c2d1"
      },
      "execution_count": 176,
      "outputs": [
        {
          "output_type": "execute_result",
          "data": {
            "text/plain": [
              "[<keras.layers.reshaping.flatten.Flatten at 0x7fe67bf518b0>,\n",
              " <keras.layers.core.dense.Dense at 0x7fe67c6a0c40>,\n",
              " <keras.layers.core.dense.Dense at 0x7fe67ae6aa00>,\n",
              " <keras.layers.core.dense.Dense at 0x7fe67ae6a790>]"
            ]
          },
          "metadata": {},
          "execution_count": 176
        }
      ]
    },
    {
      "cell_type": "code",
      "source": [
        "# extract a particular layer \n",
        "model_12.layers[1]"
      ],
      "metadata": {
        "colab": {
          "base_uri": "https://localhost:8080/"
        },
        "id": "ftnr19ku63uw",
        "outputId": "905f6f8f-f3ae-4412-9d0a-801dc805fbef"
      },
      "execution_count": 177,
      "outputs": [
        {
          "output_type": "execute_result",
          "data": {
            "text/plain": [
              "<keras.layers.core.dense.Dense at 0x7fe67c6a0c40>"
            ]
          },
          "metadata": {},
          "execution_count": 177
        }
      ]
    },
    {
      "cell_type": "code",
      "source": [
        "# get the patterns of a layer \n",
        "weights, biases = model_12.layers[1].get_weights()"
      ],
      "metadata": {
        "id": "gGF9WAXC7Ah5"
      },
      "execution_count": 178,
      "outputs": []
    },
    {
      "cell_type": "code",
      "source": [
        "weights, weights.shape"
      ],
      "metadata": {
        "colab": {
          "base_uri": "https://localhost:8080/"
        },
        "id": "IMZMynD47O4P",
        "outputId": "8fb54dfd-cb79-4d45-a44e-a684271d92e2"
      },
      "execution_count": 180,
      "outputs": [
        {
          "output_type": "execute_result",
          "data": {
            "text/plain": [
              "(array([[ 0.715027  , -0.06077112, -0.9976308 , -1.0484312 ],\n",
              "        [ 0.27732143, -0.4715541 , -0.5291646 ,  0.02329262],\n",
              "        [ 0.7752432 ,  0.5402756 , -1.128857  , -0.7426152 ],\n",
              "        ...,\n",
              "        [-0.39453375,  0.47628623, -0.22641547,  0.25505966],\n",
              "        [-0.40515727,  0.6181007 ,  0.23928417, -0.503876  ],\n",
              "        [ 0.23884544,  0.11606897, -0.1213136 ,  0.04352434]],\n",
              "       dtype=float32), (784, 4))"
            ]
          },
          "metadata": {},
          "execution_count": 180
        }
      ]
    },
    {
      "cell_type": "code",
      "source": [
        "model_12.summary()"
      ],
      "metadata": {
        "colab": {
          "base_uri": "https://localhost:8080/"
        },
        "id": "W5GOYBl_7Q1u",
        "outputId": "2d38c4d2-04d4-481c-a6f9-12405c5b6066"
      },
      "execution_count": 181,
      "outputs": [
        {
          "output_type": "stream",
          "name": "stdout",
          "text": [
            "Model: \"sequential_35\"\n",
            "_________________________________________________________________\n",
            " Layer (type)                Output Shape              Param #   \n",
            "=================================================================\n",
            " flatten_11 (Flatten)        (None, 784)               0         \n",
            "                                                                 \n",
            " dense_90 (Dense)            (None, 4)                 3140      \n",
            "                                                                 \n",
            " dense_91 (Dense)            (None, 4)                 20        \n",
            "                                                                 \n",
            " dense_92 (Dense)            (None, 10)                50        \n",
            "                                                                 \n",
            "=================================================================\n",
            "Total params: 3,210\n",
            "Trainable params: 3,210\n",
            "Non-trainable params: 0\n",
            "_________________________________________________________________\n"
          ]
        }
      ]
    },
    {
      "cell_type": "code",
      "source": [
        "# biases \n",
        "biases, biases.shape"
      ],
      "metadata": {
        "colab": {
          "base_uri": "https://localhost:8080/"
        },
        "id": "hzNs52-L8SgN",
        "outputId": "4398bda9-68fb-4934-d699-3522bc2d2463"
      },
      "execution_count": 183,
      "outputs": [
        {
          "output_type": "execute_result",
          "data": {
            "text/plain": [
              "(array([ 2.4485679e-02, -6.1455613e-04, -2.7230152e-01,  8.1124908e-01],\n",
              "       dtype=float32), (4,))"
            ]
          },
          "metadata": {},
          "execution_count": 183
        }
      ]
    },
    {
      "cell_type": "markdown",
      "source": [
        "# Saved Model for future reuse"
      ],
      "metadata": {
        "id": "PD8gtXJz7Z5e"
      }
    },
    {
      "cell_type": "code",
      "source": [
        "# save .h5 model format\n",
        "model_12.save('FashionMNISTModel.h5')"
      ],
      "metadata": {
        "id": "RjBGYdHw7sEd"
      },
      "execution_count": 184,
      "outputs": []
    },
    {
      "cell_type": "code",
      "source": [],
      "metadata": {
        "id": "KmjXXhlS77wQ"
      },
      "execution_count": null,
      "outputs": []
    }
  ]
}